{
  "cells": [
    {
      "cell_type": "markdown",
      "id": "42289889-bd57-434e-9637-d3e354756316",
      "metadata": {
        "id": "42289889-bd57-434e-9637-d3e354756316"
      },
      "source": [
        "<center> <img src = https://raw.githubusercontent.com/AndreyRysistov/DatasetsForPandas/main/hh%20label.jpg alt=\"drawing\" style=\"width:400px;\">"
      ]
    },
    {
      "cell_type": "markdown",
      "id": "829cb75b-f14e-4ba8-9195-7ba929a7d656",
      "metadata": {
        "id": "829cb75b-f14e-4ba8-9195-7ba929a7d656",
        "tags": []
      },
      "source": [
        "# <center> Проект: Анализ вакансий из HeadHunter\n",
        "   "
      ]
    },
    {
      "cell_type": "code",
      "execution_count": 1034,
      "id": "dccfde33-2452-43fb-a8a5-5c6ebc02a71d",
      "metadata": {
        "id": "dccfde33-2452-43fb-a8a5-5c6ebc02a71d"
      },
      "outputs": [],
      "source": [
        "import pandas as pd\n",
        "import psycopg2"
      ]
    },
    {
      "cell_type": "code",
      "execution_count": 1035,
      "id": "oVKH4ehvf8Ay",
      "metadata": {
        "id": "oVKH4ehvf8Ay"
      },
      "outputs": [],
      "source": [
        "# вставьте сюда параметры подключения из юнита 1. Работа с базой данных из Python\n",
        "DBNAME = 'project_sql'\n",
        "USER = 'skillfactory'\n",
        "PASSWORD = 'cCkxxLVrDE8EbvjueeMedPKt'\n",
        "HOST = '84.201.134.129'\n",
        "PORT = 5432"
      ]
    },
    {
      "cell_type": "code",
      "execution_count": 1036,
      "id": "G4X_q8KBf7SF",
      "metadata": {
        "colab": {
          "base_uri": "https://localhost:8080/",
          "height": 600
        },
        "id": "G4X_q8KBf7SF",
        "outputId": "ee063070-ae54-4ae6-b732-663931fe5c3b"
      },
      "outputs": [
        {
          "name": "stderr",
          "output_type": "stream",
          "text": [
            "/var/folders/ds/pylxck917yl36y11xbhgmxn80000gn/T/ipykernel_4537/1672308879.py:16: UserWarning: pandas only supports SQLAlchemy connectable (engine/connection) or database string URI or sqlite3 DBAPI2 connection. Other DBAPI2 objects are not tested. Please consider using SQLAlchemy.\n",
            "  df = pd.read_sql_query(query, connection)\n"
          ]
        },
        {
          "data": {
            "text/html": [
              "<div>\n",
              "<style scoped>\n",
              "    .dataframe tbody tr th:only-of-type {\n",
              "        vertical-align: middle;\n",
              "    }\n",
              "\n",
              "    .dataframe tbody tr th {\n",
              "        vertical-align: top;\n",
              "    }\n",
              "\n",
              "    .dataframe thead th {\n",
              "        text-align: right;\n",
              "    }\n",
              "</style>\n",
              "<table border=\"1\" class=\"dataframe\">\n",
              "  <thead>\n",
              "    <tr style=\"text-align: right;\">\n",
              "      <th></th>\n",
              "      <th>id</th>\n",
              "      <th>name</th>\n",
              "      <th>key_skills</th>\n",
              "      <th>schedule</th>\n",
              "      <th>experience</th>\n",
              "      <th>employment</th>\n",
              "      <th>salary_from</th>\n",
              "      <th>salary_to</th>\n",
              "      <th>area_id</th>\n",
              "      <th>employer_id</th>\n",
              "    </tr>\n",
              "  </thead>\n",
              "  <tbody>\n",
              "    <tr>\n",
              "      <th>0</th>\n",
              "      <td>55312386</td>\n",
              "      <td>Компьютерный Мастер</td>\n",
              "      <td>Пользователь ПК\\tРабота в команде\\tРемонт ноут...</td>\n",
              "      <td>Полный день</td>\n",
              "      <td>Нет опыта</td>\n",
              "      <td>Полная занятость</td>\n",
              "      <td>64000.0</td>\n",
              "      <td>NaN</td>\n",
              "      <td>1516</td>\n",
              "      <td>5724811</td>\n",
              "    </tr>\n",
              "    <tr>\n",
              "      <th>1</th>\n",
              "      <td>55843014</td>\n",
              "      <td>Системный администратор</td>\n",
              "      <td>Средства криптографической защиты информации\\t...</td>\n",
              "      <td>Полный день</td>\n",
              "      <td>От 3 до 6 лет</td>\n",
              "      <td>Полная занятость</td>\n",
              "      <td>NaN</td>\n",
              "      <td>NaN</td>\n",
              "      <td>130</td>\n",
              "      <td>4903713</td>\n",
              "    </tr>\n",
              "    <tr>\n",
              "      <th>2</th>\n",
              "      <td>54525964</td>\n",
              "      <td>Lead Java Developer to Poland</td>\n",
              "      <td>Spring Framework\\tSQL\\tHibernate ORM\\tJava\\tGit</td>\n",
              "      <td>Удаленная работа</td>\n",
              "      <td>От 3 до 6 лет</td>\n",
              "      <td>Полная занятость</td>\n",
              "      <td>NaN</td>\n",
              "      <td>NaN</td>\n",
              "      <td>160</td>\n",
              "      <td>69961</td>\n",
              "    </tr>\n",
              "    <tr>\n",
              "      <th>3</th>\n",
              "      <td>54525965</td>\n",
              "      <td>Lead Java Developer to Poland</td>\n",
              "      <td>Spring Framework\\tSQL\\tHibernate ORM\\tJava\\tGit</td>\n",
              "      <td>Удаленная работа</td>\n",
              "      <td>От 3 до 6 лет</td>\n",
              "      <td>Полная занятость</td>\n",
              "      <td>NaN</td>\n",
              "      <td>NaN</td>\n",
              "      <td>159</td>\n",
              "      <td>69961</td>\n",
              "    </tr>\n",
              "    <tr>\n",
              "      <th>4</th>\n",
              "      <td>55354053</td>\n",
              "      <td>Специалист службы поддержки с техническими зна...</td>\n",
              "      <td>None</td>\n",
              "      <td>Удаленная работа</td>\n",
              "      <td>Нет опыта</td>\n",
              "      <td>Частичная занятость</td>\n",
              "      <td>15000.0</td>\n",
              "      <td>NaN</td>\n",
              "      <td>1955</td>\n",
              "      <td>1740</td>\n",
              "    </tr>\n",
              "    <tr>\n",
              "      <th>5</th>\n",
              "      <td>55906072</td>\n",
              "      <td>Корректор</td>\n",
              "      <td>Корректура текстов\\tГрамотность\\tРабота в кома...</td>\n",
              "      <td>Полный день</td>\n",
              "      <td>Нет опыта</td>\n",
              "      <td>Полная занятость</td>\n",
              "      <td>NaN</td>\n",
              "      <td>NaN</td>\n",
              "      <td>2323</td>\n",
              "      <td>584934</td>\n",
              "    </tr>\n",
              "    <tr>\n",
              "      <th>6</th>\n",
              "      <td>55523207</td>\n",
              "      <td>React Front-end Middle Developer</td>\n",
              "      <td>JavaScript\\tTypeScript\\tCSS3\\tNode.js\\tHTML5</td>\n",
              "      <td>Гибкий график</td>\n",
              "      <td>От 1 года до 3 лет</td>\n",
              "      <td>Полная занятость</td>\n",
              "      <td>NaN</td>\n",
              "      <td>NaN</td>\n",
              "      <td>2759</td>\n",
              "      <td>204511</td>\n",
              "    </tr>\n",
              "    <tr>\n",
              "      <th>7</th>\n",
              "      <td>55050261</td>\n",
              "      <td>Инженер-программист</td>\n",
              "      <td>Java SE\\tSpring Framework\\tSpring Boot\\tGit\\tS...</td>\n",
              "      <td>Полный день</td>\n",
              "      <td>Нет опыта</td>\n",
              "      <td>Полная занятость</td>\n",
              "      <td>40000.0</td>\n",
              "      <td>60000.0</td>\n",
              "      <td>49</td>\n",
              "      <td>4448636</td>\n",
              "    </tr>\n",
              "    <tr>\n",
              "      <th>8</th>\n",
              "      <td>55583432</td>\n",
              "      <td>Системный администратор</td>\n",
              "      <td>Linux\\tАдминистрирование сетевого оборудования...</td>\n",
              "      <td>Полный день</td>\n",
              "      <td>От 1 года до 3 лет</td>\n",
              "      <td>Полная занятость</td>\n",
              "      <td>50000.0</td>\n",
              "      <td>NaN</td>\n",
              "      <td>3</td>\n",
              "      <td>55126</td>\n",
              "    </tr>\n",
              "    <tr>\n",
              "      <th>9</th>\n",
              "      <td>55312414</td>\n",
              "      <td>Ведущий специалист группы разработки систем</td>\n",
              "      <td>1С программирование\\t1С: Предприятие 8\\t1С: До...</td>\n",
              "      <td>Полный день</td>\n",
              "      <td>От 3 до 6 лет</td>\n",
              "      <td>Полная занятость</td>\n",
              "      <td>NaN</td>\n",
              "      <td>NaN</td>\n",
              "      <td>47</td>\n",
              "      <td>1413754</td>\n",
              "    </tr>\n",
              "  </tbody>\n",
              "</table>\n",
              "</div>"
            ],
            "text/plain": [
              "         id                                               name  \\\n",
              "0  55312386                                Компьютерный Мастер   \n",
              "1  55843014                            Системный администратор   \n",
              "2  54525964                      Lead Java Developer to Poland   \n",
              "3  54525965                      Lead Java Developer to Poland   \n",
              "4  55354053  Специалист службы поддержки с техническими зна...   \n",
              "5  55906072                                          Корректор   \n",
              "6  55523207                   React Front-end Middle Developer   \n",
              "7  55050261                                Инженер-программист   \n",
              "8  55583432                            Системный администратор   \n",
              "9  55312414        Ведущий специалист группы разработки систем   \n",
              "\n",
              "                                          key_skills          schedule  \\\n",
              "0  Пользователь ПК\\tРабота в команде\\tРемонт ноут...       Полный день   \n",
              "1  Средства криптографической защиты информации\\t...       Полный день   \n",
              "2    Spring Framework\\tSQL\\tHibernate ORM\\tJava\\tGit  Удаленная работа   \n",
              "3    Spring Framework\\tSQL\\tHibernate ORM\\tJava\\tGit  Удаленная работа   \n",
              "4                                               None  Удаленная работа   \n",
              "5  Корректура текстов\\tГрамотность\\tРабота в кома...       Полный день   \n",
              "6       JavaScript\\tTypeScript\\tCSS3\\tNode.js\\tHTML5     Гибкий график   \n",
              "7  Java SE\\tSpring Framework\\tSpring Boot\\tGit\\tS...       Полный день   \n",
              "8  Linux\\tАдминистрирование сетевого оборудования...       Полный день   \n",
              "9  1С программирование\\t1С: Предприятие 8\\t1С: До...       Полный день   \n",
              "\n",
              "           experience           employment  salary_from  salary_to  area_id  \\\n",
              "0           Нет опыта     Полная занятость      64000.0        NaN     1516   \n",
              "1       От 3 до 6 лет     Полная занятость          NaN        NaN      130   \n",
              "2       От 3 до 6 лет     Полная занятость          NaN        NaN      160   \n",
              "3       От 3 до 6 лет     Полная занятость          NaN        NaN      159   \n",
              "4           Нет опыта  Частичная занятость      15000.0        NaN     1955   \n",
              "5           Нет опыта     Полная занятость          NaN        NaN     2323   \n",
              "6  От 1 года до 3 лет     Полная занятость          NaN        NaN     2759   \n",
              "7           Нет опыта     Полная занятость      40000.0    60000.0       49   \n",
              "8  От 1 года до 3 лет     Полная занятость      50000.0        NaN        3   \n",
              "9       От 3 до 6 лет     Полная занятость          NaN        NaN       47   \n",
              "\n",
              "   employer_id  \n",
              "0      5724811  \n",
              "1      4903713  \n",
              "2        69961  \n",
              "3        69961  \n",
              "4         1740  \n",
              "5       584934  \n",
              "6       204511  \n",
              "7      4448636  \n",
              "8        55126  \n",
              "9      1413754  "
            ]
          },
          "execution_count": 1036,
          "metadata": {},
          "output_type": "execute_result"
        }
      ],
      "source": [
        "\n",
        "\n",
        "connection = psycopg2.connect(\n",
        "    dbname=DBNAME,\n",
        "    user=USER,\n",
        "    host=HOST,\n",
        "    password=PASSWORD,\n",
        "    port=PORT\n",
        ")\n",
        "\n",
        "n = 10\n",
        "query = f'''select *\n",
        "           from \n",
        "                vacancies\n",
        "           limit {n}\n",
        "        '''\n",
        "\n",
        "df = pd.read_sql_query(query, connection)\n",
        "df"
      ]
    },
    {
      "cell_type": "markdown",
      "id": "0dc6476b-7a00-44f1-ac93-6e3baed33a29",
      "metadata": {
        "id": "0dc6476b-7a00-44f1-ac93-6e3baed33a29"
      },
      "source": [
        "# Юнит 3. Предварительный анализ данных"
      ]
    },
    {
      "cell_type": "markdown",
      "id": "889782b6-8d1c-410e-8920-e57f27917c64",
      "metadata": {
        "id": "889782b6-8d1c-410e-8920-e57f27917c64"
      },
      "source": [
        "1. Напишите запрос, который посчитает количество вакансий в нашей базе (вакансии находятся в таблице vacancies)."
      ]
    },
    {
      "cell_type": "code",
      "execution_count": 1037,
      "id": "bc39e68e-ed02-4ee2-9235-7258a2f867a8",
      "metadata": {
        "id": "bc39e68e-ed02-4ee2-9235-7258a2f867a8"
      },
      "outputs": [],
      "source": [
        "# текст запроса\n",
        "query_3_1 = f'''\n",
        "           select\n",
        "                count(id)\n",
        "           from \n",
        "                vacancies\n",
        "'''"
      ]
    },
    {
      "cell_type": "code",
      "execution_count": 1038,
      "id": "7mAwtsk4hEHY",
      "metadata": {
        "colab": {
          "base_uri": "https://localhost:8080/",
          "height": 134
        },
        "id": "7mAwtsk4hEHY",
        "outputId": "54b52312-1f6a-483e-ebba-da48109bf075"
      },
      "outputs": [
        {
          "name": "stderr",
          "output_type": "stream",
          "text": [
            "/var/folders/ds/pylxck917yl36y11xbhgmxn80000gn/T/ipykernel_4537/1114379196.py:2: UserWarning: pandas only supports SQLAlchemy connectable (engine/connection) or database string URI or sqlite3 DBAPI2 connection. Other DBAPI2 objects are not tested. Please consider using SQLAlchemy.\n",
            "  df = pd.read_sql_query(query_3_1, connection)\n"
          ]
        },
        {
          "data": {
            "text/html": [
              "<div>\n",
              "<style scoped>\n",
              "    .dataframe tbody tr th:only-of-type {\n",
              "        vertical-align: middle;\n",
              "    }\n",
              "\n",
              "    .dataframe tbody tr th {\n",
              "        vertical-align: top;\n",
              "    }\n",
              "\n",
              "    .dataframe thead th {\n",
              "        text-align: right;\n",
              "    }\n",
              "</style>\n",
              "<table border=\"1\" class=\"dataframe\">\n",
              "  <thead>\n",
              "    <tr style=\"text-align: right;\">\n",
              "      <th></th>\n",
              "      <th>count</th>\n",
              "    </tr>\n",
              "  </thead>\n",
              "  <tbody>\n",
              "    <tr>\n",
              "      <th>0</th>\n",
              "      <td>49197</td>\n",
              "    </tr>\n",
              "  </tbody>\n",
              "</table>\n",
              "</div>"
            ],
            "text/plain": [
              "   count\n",
              "0  49197"
            ]
          },
          "execution_count": 1038,
          "metadata": {},
          "output_type": "execute_result"
        }
      ],
      "source": [
        "# результат запроса\n",
        "df = pd.read_sql_query(query_3_1, connection)\n",
        "df"
      ]
    },
    {
      "cell_type": "markdown",
      "id": "b583485d-1f9e-494e-ada4-80ffff7c53d6",
      "metadata": {
        "id": "b583485d-1f9e-494e-ada4-80ffff7c53d6"
      },
      "source": [
        "2. Напишите запрос, который посчитает количество работодателей (таблица employers)."
      ]
    },
    {
      "cell_type": "code",
      "execution_count": 1039,
      "id": "5408c52c-3407-4a63-b25b-1aafa2322d28",
      "metadata": {
        "id": "5408c52c-3407-4a63-b25b-1aafa2322d28"
      },
      "outputs": [],
      "source": [
        "# текст запроса\n",
        "query_3_2 = f'''\n",
        "           select\n",
        "                count(distinct id)\n",
        "           from \n",
        "                employers\n",
        "'''"
      ]
    },
    {
      "cell_type": "code",
      "execution_count": 1040,
      "id": "jVL4eshKhdqc",
      "metadata": {
        "colab": {
          "base_uri": "https://localhost:8080/",
          "height": 134
        },
        "id": "jVL4eshKhdqc",
        "outputId": "b29ee2bc-b7ad-4c5a-f1dd-3f74ad6abf96"
      },
      "outputs": [
        {
          "name": "stderr",
          "output_type": "stream",
          "text": [
            "/var/folders/ds/pylxck917yl36y11xbhgmxn80000gn/T/ipykernel_4537/3062646138.py:2: UserWarning: pandas only supports SQLAlchemy connectable (engine/connection) or database string URI or sqlite3 DBAPI2 connection. Other DBAPI2 objects are not tested. Please consider using SQLAlchemy.\n",
            "  df = pd.read_sql_query(query_3_2, connection)\n"
          ]
        },
        {
          "data": {
            "text/html": [
              "<div>\n",
              "<style scoped>\n",
              "    .dataframe tbody tr th:only-of-type {\n",
              "        vertical-align: middle;\n",
              "    }\n",
              "\n",
              "    .dataframe tbody tr th {\n",
              "        vertical-align: top;\n",
              "    }\n",
              "\n",
              "    .dataframe thead th {\n",
              "        text-align: right;\n",
              "    }\n",
              "</style>\n",
              "<table border=\"1\" class=\"dataframe\">\n",
              "  <thead>\n",
              "    <tr style=\"text-align: right;\">\n",
              "      <th></th>\n",
              "      <th>count</th>\n",
              "    </tr>\n",
              "  </thead>\n",
              "  <tbody>\n",
              "    <tr>\n",
              "      <th>0</th>\n",
              "      <td>23501</td>\n",
              "    </tr>\n",
              "  </tbody>\n",
              "</table>\n",
              "</div>"
            ],
            "text/plain": [
              "   count\n",
              "0  23501"
            ]
          },
          "execution_count": 1040,
          "metadata": {},
          "output_type": "execute_result"
        }
      ],
      "source": [
        "# результат запроса\n",
        "df = pd.read_sql_query(query_3_2, connection)\n",
        "df"
      ]
    },
    {
      "cell_type": "markdown",
      "id": "a2bfff1f-c975-4bf6-84be-2185d79dcb76",
      "metadata": {
        "id": "a2bfff1f-c975-4bf6-84be-2185d79dcb76"
      },
      "source": [
        "3. Посчитате с помощью запроса количество регионов (таблица areas)."
      ]
    },
    {
      "cell_type": "code",
      "execution_count": 1041,
      "id": "1m8QJwBYhey6",
      "metadata": {
        "id": "1m8QJwBYhey6"
      },
      "outputs": [],
      "source": [
        "# текст запроса\n",
        "query_3_3 = f'''\n",
        "           select\n",
        "                count(distinct id)\n",
        "           from \n",
        "                areas\n",
        "'''"
      ]
    },
    {
      "cell_type": "code",
      "execution_count": 1042,
      "id": "EZsn9tlfhe7f",
      "metadata": {
        "colab": {
          "base_uri": "https://localhost:8080/",
          "height": 134
        },
        "id": "EZsn9tlfhe7f",
        "outputId": "9aaea90c-5377-4495-ccf5-6de060cde970"
      },
      "outputs": [
        {
          "name": "stderr",
          "output_type": "stream",
          "text": [
            "/var/folders/ds/pylxck917yl36y11xbhgmxn80000gn/T/ipykernel_4537/928149064.py:2: UserWarning: pandas only supports SQLAlchemy connectable (engine/connection) or database string URI or sqlite3 DBAPI2 connection. Other DBAPI2 objects are not tested. Please consider using SQLAlchemy.\n",
            "  df = pd.read_sql_query(query_3_3, connection)\n"
          ]
        },
        {
          "data": {
            "text/html": [
              "<div>\n",
              "<style scoped>\n",
              "    .dataframe tbody tr th:only-of-type {\n",
              "        vertical-align: middle;\n",
              "    }\n",
              "\n",
              "    .dataframe tbody tr th {\n",
              "        vertical-align: top;\n",
              "    }\n",
              "\n",
              "    .dataframe thead th {\n",
              "        text-align: right;\n",
              "    }\n",
              "</style>\n",
              "<table border=\"1\" class=\"dataframe\">\n",
              "  <thead>\n",
              "    <tr style=\"text-align: right;\">\n",
              "      <th></th>\n",
              "      <th>count</th>\n",
              "    </tr>\n",
              "  </thead>\n",
              "  <tbody>\n",
              "    <tr>\n",
              "      <th>0</th>\n",
              "      <td>1362</td>\n",
              "    </tr>\n",
              "  </tbody>\n",
              "</table>\n",
              "</div>"
            ],
            "text/plain": [
              "   count\n",
              "0   1362"
            ]
          },
          "execution_count": 1042,
          "metadata": {},
          "output_type": "execute_result"
        }
      ],
      "source": [
        "# результат запроса\n",
        "df = pd.read_sql_query(query_3_3, connection)\n",
        "df"
      ]
    },
    {
      "cell_type": "markdown",
      "id": "41bb59f3-53cc-4a67-a5bc-bedf573955e4",
      "metadata": {
        "id": "41bb59f3-53cc-4a67-a5bc-bedf573955e4"
      },
      "source": [
        "4. Посчитате с помощью запроса количество сфер деятельности в базе (таблица industries)."
      ]
    },
    {
      "cell_type": "code",
      "execution_count": 1043,
      "id": "d286cf4c-707b-4cd2-9190-7ab3587d04a1",
      "metadata": {
        "id": "d286cf4c-707b-4cd2-9190-7ab3587d04a1"
      },
      "outputs": [],
      "source": [
        "# текст запроса\n",
        "query_3_4 = f'''\n",
        "           select\n",
        "                count(distinct id)\n",
        "           from \n",
        "                industries\n",
        "'''"
      ]
    },
    {
      "cell_type": "code",
      "execution_count": 1044,
      "id": "JYAaoZ4qhfzW",
      "metadata": {
        "colab": {
          "base_uri": "https://localhost:8080/",
          "height": 134
        },
        "id": "JYAaoZ4qhfzW",
        "outputId": "81ddbbbf-0450-41c7-d1cb-0a448d0c909e"
      },
      "outputs": [
        {
          "name": "stderr",
          "output_type": "stream",
          "text": [
            "/var/folders/ds/pylxck917yl36y11xbhgmxn80000gn/T/ipykernel_4537/2101691108.py:2: UserWarning: pandas only supports SQLAlchemy connectable (engine/connection) or database string URI or sqlite3 DBAPI2 connection. Other DBAPI2 objects are not tested. Please consider using SQLAlchemy.\n",
            "  df = pd.read_sql_query(query_3_4, connection)\n"
          ]
        },
        {
          "data": {
            "text/html": [
              "<div>\n",
              "<style scoped>\n",
              "    .dataframe tbody tr th:only-of-type {\n",
              "        vertical-align: middle;\n",
              "    }\n",
              "\n",
              "    .dataframe tbody tr th {\n",
              "        vertical-align: top;\n",
              "    }\n",
              "\n",
              "    .dataframe thead th {\n",
              "        text-align: right;\n",
              "    }\n",
              "</style>\n",
              "<table border=\"1\" class=\"dataframe\">\n",
              "  <thead>\n",
              "    <tr style=\"text-align: right;\">\n",
              "      <th></th>\n",
              "      <th>count</th>\n",
              "    </tr>\n",
              "  </thead>\n",
              "  <tbody>\n",
              "    <tr>\n",
              "      <th>0</th>\n",
              "      <td>294</td>\n",
              "    </tr>\n",
              "  </tbody>\n",
              "</table>\n",
              "</div>"
            ],
            "text/plain": [
              "   count\n",
              "0    294"
            ]
          },
          "execution_count": 1044,
          "metadata": {},
          "output_type": "execute_result"
        }
      ],
      "source": [
        "# результат запроса\n",
        "df = pd.read_sql_query(query_3_4, connection)\n",
        "df"
      ]
    },
    {
      "cell_type": "markdown",
      "id": "9a8a2181-6914-448b-85f1-38f5f18b8a93",
      "metadata": {
        "id": "9a8a2181-6914-448b-85f1-38f5f18b8a93"
      },
      "source": [
        "***"
      ]
    },
    {
      "cell_type": "code",
      "execution_count": 1045,
      "id": "be4e9bd3-a4db-4a20-82fb-6b02fc2957e0",
      "metadata": {
        "id": "be4e9bd3-a4db-4a20-82fb-6b02fc2957e0"
      },
      "outputs": [
        {
          "data": {
            "text/plain": [
              "'\\nУ 23501 работодателя находящихся в 1362 регионах и ведущих дела в 294 отрослях бизнеса имеется 49197 вакансий.\\n'"
            ]
          },
          "execution_count": 1045,
          "metadata": {},
          "output_type": "execute_result"
        }
      ],
      "source": [
        "# выводы по предварительному анализу данных\n",
        "'''\n",
        "У 23501 работодателя находящихся в 1362 регионах и ведущих дела в 294 отрослях бизнеса имеется 49197 вакансий.\n",
        "'''"
      ]
    },
    {
      "cell_type": "markdown",
      "id": "8d62a9f3-f64e-4fe7-bdac-c4dffa16155e",
      "metadata": {
        "id": "8d62a9f3-f64e-4fe7-bdac-c4dffa16155e"
      },
      "source": [
        "# Юнит 4. Детальный анализ вакансий"
      ]
    },
    {
      "cell_type": "markdown",
      "id": "93053d3d-b284-481a-9cf7-012d7014c0e0",
      "metadata": {
        "id": "93053d3d-b284-481a-9cf7-012d7014c0e0"
      },
      "source": [
        "1. Напишите запрос, который позволит узнать, сколько (cnt) вакансий в каждом регионе (area).\n",
        "Отсортируйте по количеству вакансий в порядке убывания."
      ]
    },
    {
      "cell_type": "code",
      "execution_count": 1046,
      "id": "3f069da6-fdc9-4ae7-b514-fafe2675efd3",
      "metadata": {
        "id": "3f069da6-fdc9-4ae7-b514-fafe2675efd3"
      },
      "outputs": [],
      "source": [
        "# текст запроса\n",
        "query_4_1 = f'''\n",
        "    select\n",
        "        count(v.id) cnt,\n",
        "        a.name area\n",
        "    from \n",
        "        vacancies v\n",
        "        join areas a on a.id = v.area_id\n",
        "    group by a.name\n",
        "    order by 1 desc\n",
        "'''"
      ]
    },
    {
      "cell_type": "code",
      "execution_count": 1047,
      "id": "P7QL86hrjhRJ",
      "metadata": {
        "colab": {
          "base_uri": "https://localhost:8080/",
          "height": 473
        },
        "id": "P7QL86hrjhRJ",
        "outputId": "0f8f0662-6959-4620-9734-d4d6a59da6fb"
      },
      "outputs": [
        {
          "name": "stderr",
          "output_type": "stream",
          "text": [
            "/var/folders/ds/pylxck917yl36y11xbhgmxn80000gn/T/ipykernel_4537/2457173557.py:2: UserWarning: pandas only supports SQLAlchemy connectable (engine/connection) or database string URI or sqlite3 DBAPI2 connection. Other DBAPI2 objects are not tested. Please consider using SQLAlchemy.\n",
            "  df = pd.read_sql_query(query_4_1, connection)\n"
          ]
        },
        {
          "data": {
            "text/html": [
              "<div>\n",
              "<style scoped>\n",
              "    .dataframe tbody tr th:only-of-type {\n",
              "        vertical-align: middle;\n",
              "    }\n",
              "\n",
              "    .dataframe tbody tr th {\n",
              "        vertical-align: top;\n",
              "    }\n",
              "\n",
              "    .dataframe thead th {\n",
              "        text-align: right;\n",
              "    }\n",
              "</style>\n",
              "<table border=\"1\" class=\"dataframe\">\n",
              "  <thead>\n",
              "    <tr style=\"text-align: right;\">\n",
              "      <th></th>\n",
              "      <th>cnt</th>\n",
              "      <th>area</th>\n",
              "    </tr>\n",
              "  </thead>\n",
              "  <tbody>\n",
              "    <tr>\n",
              "      <th>0</th>\n",
              "      <td>5333</td>\n",
              "      <td>Москва</td>\n",
              "    </tr>\n",
              "    <tr>\n",
              "      <th>1</th>\n",
              "      <td>2851</td>\n",
              "      <td>Санкт-Петербург</td>\n",
              "    </tr>\n",
              "    <tr>\n",
              "      <th>2</th>\n",
              "      <td>2112</td>\n",
              "      <td>Минск</td>\n",
              "    </tr>\n",
              "    <tr>\n",
              "      <th>3</th>\n",
              "      <td>2006</td>\n",
              "      <td>Новосибирск</td>\n",
              "    </tr>\n",
              "    <tr>\n",
              "      <th>4</th>\n",
              "      <td>1892</td>\n",
              "      <td>Алматы</td>\n",
              "    </tr>\n",
              "    <tr>\n",
              "      <th>...</th>\n",
              "      <td>...</td>\n",
              "      <td>...</td>\n",
              "    </tr>\n",
              "    <tr>\n",
              "      <th>764</th>\n",
              "      <td>1</td>\n",
              "      <td>Тарко-Сале</td>\n",
              "    </tr>\n",
              "    <tr>\n",
              "      <th>765</th>\n",
              "      <td>1</td>\n",
              "      <td>Новоаннинский</td>\n",
              "    </tr>\n",
              "    <tr>\n",
              "      <th>766</th>\n",
              "      <td>1</td>\n",
              "      <td>Бирск</td>\n",
              "    </tr>\n",
              "    <tr>\n",
              "      <th>767</th>\n",
              "      <td>1</td>\n",
              "      <td>Сасово</td>\n",
              "    </tr>\n",
              "    <tr>\n",
              "      <th>768</th>\n",
              "      <td>1</td>\n",
              "      <td>Анна</td>\n",
              "    </tr>\n",
              "  </tbody>\n",
              "</table>\n",
              "<p>769 rows × 2 columns</p>\n",
              "</div>"
            ],
            "text/plain": [
              "      cnt             area\n",
              "0    5333           Москва\n",
              "1    2851  Санкт-Петербург\n",
              "2    2112            Минск\n",
              "3    2006      Новосибирск\n",
              "4    1892           Алматы\n",
              "..    ...              ...\n",
              "764     1       Тарко-Сале\n",
              "765     1    Новоаннинский\n",
              "766     1            Бирск\n",
              "767     1           Сасово\n",
              "768     1             Анна\n",
              "\n",
              "[769 rows x 2 columns]"
            ]
          },
          "execution_count": 1047,
          "metadata": {},
          "output_type": "execute_result"
        }
      ],
      "source": [
        "# результат запроса\n",
        "df = pd.read_sql_query(query_4_1, connection)\n",
        "df"
      ]
    },
    {
      "cell_type": "markdown",
      "id": "4266f0b6-1646-492a-88b4-2f6a46502135",
      "metadata": {
        "id": "4266f0b6-1646-492a-88b4-2f6a46502135"
      },
      "source": [
        "2. Напишите запрос, чтобы определить у какого количества вакансий заполнено хотя бы одно из двух полей с зарплатой."
      ]
    },
    {
      "cell_type": "code",
      "execution_count": 1048,
      "id": "0c44b350-72eb-4d65-8b54-a1fc449ba9fd",
      "metadata": {
        "id": "0c44b350-72eb-4d65-8b54-a1fc449ba9fd"
      },
      "outputs": [],
      "source": [
        "# текст запроса\n",
        "q_4_2 = f'''\n",
        "    select\n",
        "      salary_from,\n",
        "      salary_to\n",
        "    from \n",
        "      vacancies\n",
        "    where salary_from is not null or salary_to is not null\n",
        "'''"
      ]
    },
    {
      "cell_type": "code",
      "execution_count": 1049,
      "id": "rhvwaMDkoWTi",
      "metadata": {
        "colab": {
          "base_uri": "https://localhost:8080/"
        },
        "id": "rhvwaMDkoWTi",
        "outputId": "8447bea3-2c38-4aa0-ff85-2969c0230955"
      },
      "outputs": [
        {
          "name": "stderr",
          "output_type": "stream",
          "text": [
            "/var/folders/ds/pylxck917yl36y11xbhgmxn80000gn/T/ipykernel_4537/2680735510.py:2: UserWarning: pandas only supports SQLAlchemy connectable (engine/connection) or database string URI or sqlite3 DBAPI2 connection. Other DBAPI2 objects are not tested. Please consider using SQLAlchemy.\n",
            "  df = pd.read_sql_query(q_4_2, connection)\n"
          ]
        },
        {
          "name": "stdout",
          "output_type": "stream",
          "text": [
            "количество вакансий у которых заполнено хотя бы одно из двух полей - 24073\n"
          ]
        }
      ],
      "source": [
        "# результат запроса\n",
        "df = pd.read_sql_query(q_4_2, connection)\n",
        "print('количество вакансий у которых заполнено хотя бы одно из двух полей -', df.shape[0])"
      ]
    },
    {
      "cell_type": "markdown",
      "id": "635c4d5d-f323-4c66-b428-50a088120aa0",
      "metadata": {
        "id": "635c4d5d-f323-4c66-b428-50a088120aa0"
      },
      "source": [
        "3. Найдите средние значения для нижней и верхней границы зарплатной вилки. Округлите значения до целого."
      ]
    },
    {
      "cell_type": "code",
      "execution_count": 1050,
      "id": "603cdbe4-0ec3-4106-8eaf-c73fcdd29165",
      "metadata": {
        "id": "603cdbe4-0ec3-4106-8eaf-c73fcdd29165"
      },
      "outputs": [],
      "source": [
        "# текст запроса\n",
        "q_4_3 = f'''\n",
        "    select\n",
        "      avg(salary_from),\n",
        "      avg(salary_to)\n",
        "    from \n",
        "      vacancies\n",
        "    where salary_from is not null or salary_to is not null\n",
        "'''"
      ]
    },
    {
      "cell_type": "code",
      "execution_count": 1051,
      "id": "pswpAb66ovZZ",
      "metadata": {
        "colab": {
          "base_uri": "https://localhost:8080/"
        },
        "id": "pswpAb66ovZZ",
        "outputId": "acffe716-4875-4183-fdd1-ee02047a7a44"
      },
      "outputs": [
        {
          "name": "stdout",
          "output_type": "stream",
          "text": [
            "среднее значение нижней границы зарплатной вилки - 71065\n",
            "среднее значение верхней граница зарплатной вилки - 110537\n"
          ]
        },
        {
          "name": "stderr",
          "output_type": "stream",
          "text": [
            "/var/folders/ds/pylxck917yl36y11xbhgmxn80000gn/T/ipykernel_4537/2306365323.py:2: UserWarning: pandas only supports SQLAlchemy connectable (engine/connection) or database string URI or sqlite3 DBAPI2 connection. Other DBAPI2 objects are not tested. Please consider using SQLAlchemy.\n",
            "  df = pd.read_sql_query(q_4_3, connection)\n"
          ]
        }
      ],
      "source": [
        "# результат запроса\n",
        "df = pd.read_sql_query(q_4_3, connection)\n",
        "print(f'среднее значение нижней границы зарплатной вилки - {round(df.iloc[0, 0])}\\nсреднее значение верхней граница зарплатной вилки - {round(df.iloc[0, 1])}')"
      ]
    },
    {
      "cell_type": "markdown",
      "id": "f3fdaec9-5fd3-4260-9cf5-1d7406b628a5",
      "metadata": {
        "id": "f3fdaec9-5fd3-4260-9cf5-1d7406b628a5"
      },
      "source": [
        "4. Напишите запрос, который выведет количество вакансий для каждого сочетания типа рабочего графика (schedule) и типа трудоустройства (employment), используемого в вакансиях. Результат отсортируйте по убыванию количества.\n"
      ]
    },
    {
      "cell_type": "code",
      "execution_count": 1052,
      "id": "1ea710ec-871b-431e-9462-c7d0fd87011b",
      "metadata": {
        "id": "1ea710ec-871b-431e-9462-c7d0fd87011b"
      },
      "outputs": [],
      "source": [
        "# текст запроса\n",
        "q_4_4 = f'''\n",
        "    select distinct\n",
        "      schedule,\n",
        "      employment,\n",
        "      count(name)\n",
        "    from \n",
        "      vacancies\n",
        "    group by 1, 2\n",
        "    order by 3 desc\n",
        "'''"
      ]
    },
    {
      "cell_type": "code",
      "execution_count": 1053,
      "id": "lGUVqavdo4JQ",
      "metadata": {
        "colab": {
          "base_uri": "https://localhost:8080/",
          "height": 661
        },
        "id": "lGUVqavdo4JQ",
        "outputId": "eccf914f-07a8-412b-9846-a1505e8a8121"
      },
      "outputs": [
        {
          "name": "stderr",
          "output_type": "stream",
          "text": [
            "/var/folders/ds/pylxck917yl36y11xbhgmxn80000gn/T/ipykernel_4537/3947170584.py:2: UserWarning: pandas only supports SQLAlchemy connectable (engine/connection) or database string URI or sqlite3 DBAPI2 connection. Other DBAPI2 objects are not tested. Please consider using SQLAlchemy.\n",
            "  df = pd.read_sql_query(q_4_4, connection)\n"
          ]
        },
        {
          "data": {
            "text/html": [
              "<div>\n",
              "<style scoped>\n",
              "    .dataframe tbody tr th:only-of-type {\n",
              "        vertical-align: middle;\n",
              "    }\n",
              "\n",
              "    .dataframe tbody tr th {\n",
              "        vertical-align: top;\n",
              "    }\n",
              "\n",
              "    .dataframe thead th {\n",
              "        text-align: right;\n",
              "    }\n",
              "</style>\n",
              "<table border=\"1\" class=\"dataframe\">\n",
              "  <thead>\n",
              "    <tr style=\"text-align: right;\">\n",
              "      <th></th>\n",
              "      <th>schedule</th>\n",
              "      <th>employment</th>\n",
              "      <th>count</th>\n",
              "    </tr>\n",
              "  </thead>\n",
              "  <tbody>\n",
              "    <tr>\n",
              "      <th>0</th>\n",
              "      <td>Полный день</td>\n",
              "      <td>Полная занятость</td>\n",
              "      <td>35367</td>\n",
              "    </tr>\n",
              "    <tr>\n",
              "      <th>1</th>\n",
              "      <td>Удаленная работа</td>\n",
              "      <td>Полная занятость</td>\n",
              "      <td>7802</td>\n",
              "    </tr>\n",
              "    <tr>\n",
              "      <th>2</th>\n",
              "      <td>Гибкий график</td>\n",
              "      <td>Полная занятость</td>\n",
              "      <td>1593</td>\n",
              "    </tr>\n",
              "    <tr>\n",
              "      <th>3</th>\n",
              "      <td>Удаленная работа</td>\n",
              "      <td>Частичная занятость</td>\n",
              "      <td>1312</td>\n",
              "    </tr>\n",
              "    <tr>\n",
              "      <th>4</th>\n",
              "      <td>Сменный график</td>\n",
              "      <td>Полная занятость</td>\n",
              "      <td>940</td>\n",
              "    </tr>\n",
              "    <tr>\n",
              "      <th>5</th>\n",
              "      <td>Полный день</td>\n",
              "      <td>Стажировка</td>\n",
              "      <td>569</td>\n",
              "    </tr>\n",
              "    <tr>\n",
              "      <th>6</th>\n",
              "      <td>Вахтовый метод</td>\n",
              "      <td>Полная занятость</td>\n",
              "      <td>367</td>\n",
              "    </tr>\n",
              "    <tr>\n",
              "      <th>7</th>\n",
              "      <td>Полный день</td>\n",
              "      <td>Частичная занятость</td>\n",
              "      <td>347</td>\n",
              "    </tr>\n",
              "    <tr>\n",
              "      <th>8</th>\n",
              "      <td>Гибкий график</td>\n",
              "      <td>Частичная занятость</td>\n",
              "      <td>312</td>\n",
              "    </tr>\n",
              "    <tr>\n",
              "      <th>9</th>\n",
              "      <td>Полный день</td>\n",
              "      <td>Проектная работа</td>\n",
              "      <td>141</td>\n",
              "    </tr>\n",
              "    <tr>\n",
              "      <th>10</th>\n",
              "      <td>Удаленная работа</td>\n",
              "      <td>Проектная работа</td>\n",
              "      <td>133</td>\n",
              "    </tr>\n",
              "    <tr>\n",
              "      <th>11</th>\n",
              "      <td>Гибкий график</td>\n",
              "      <td>Стажировка</td>\n",
              "      <td>116</td>\n",
              "    </tr>\n",
              "    <tr>\n",
              "      <th>12</th>\n",
              "      <td>Сменный график</td>\n",
              "      <td>Частичная занятость</td>\n",
              "      <td>101</td>\n",
              "    </tr>\n",
              "    <tr>\n",
              "      <th>13</th>\n",
              "      <td>Удаленная работа</td>\n",
              "      <td>Стажировка</td>\n",
              "      <td>64</td>\n",
              "    </tr>\n",
              "    <tr>\n",
              "      <th>14</th>\n",
              "      <td>Гибкий график</td>\n",
              "      <td>Проектная работа</td>\n",
              "      <td>18</td>\n",
              "    </tr>\n",
              "    <tr>\n",
              "      <th>15</th>\n",
              "      <td>Сменный график</td>\n",
              "      <td>Стажировка</td>\n",
              "      <td>12</td>\n",
              "    </tr>\n",
              "    <tr>\n",
              "      <th>16</th>\n",
              "      <td>Вахтовый метод</td>\n",
              "      <td>Проектная работа</td>\n",
              "      <td>2</td>\n",
              "    </tr>\n",
              "    <tr>\n",
              "      <th>17</th>\n",
              "      <td>Сменный график</td>\n",
              "      <td>Проектная работа</td>\n",
              "      <td>1</td>\n",
              "    </tr>\n",
              "  </tbody>\n",
              "</table>\n",
              "</div>"
            ],
            "text/plain": [
              "            schedule           employment  count\n",
              "0        Полный день     Полная занятость  35367\n",
              "1   Удаленная работа     Полная занятость   7802\n",
              "2      Гибкий график     Полная занятость   1593\n",
              "3   Удаленная работа  Частичная занятость   1312\n",
              "4     Сменный график     Полная занятость    940\n",
              "5        Полный день           Стажировка    569\n",
              "6     Вахтовый метод     Полная занятость    367\n",
              "7        Полный день  Частичная занятость    347\n",
              "8      Гибкий график  Частичная занятость    312\n",
              "9        Полный день     Проектная работа    141\n",
              "10  Удаленная работа     Проектная работа    133\n",
              "11     Гибкий график           Стажировка    116\n",
              "12    Сменный график  Частичная занятость    101\n",
              "13  Удаленная работа           Стажировка     64\n",
              "14     Гибкий график     Проектная работа     18\n",
              "15    Сменный график           Стажировка     12\n",
              "16    Вахтовый метод     Проектная работа      2\n",
              "17    Сменный график     Проектная работа      1"
            ]
          },
          "execution_count": 1053,
          "metadata": {},
          "output_type": "execute_result"
        }
      ],
      "source": [
        "# результат запроса\n",
        "df = pd.read_sql_query(q_4_4, connection)\n",
        "df"
      ]
    },
    {
      "cell_type": "markdown",
      "id": "0136ffee-0ead-4a6b-b608-61d1c753a438",
      "metadata": {
        "id": "0136ffee-0ead-4a6b-b608-61d1c753a438"
      },
      "source": [
        "5. Напишите запрос, выводящий значения поля Требуемый опыт работы (experience) в порядке возрастания количества вакансий, в которых указан данный вариант опыта."
      ]
    },
    {
      "cell_type": "code",
      "execution_count": 1054,
      "id": "5b3a8e79-f7ab-4008-b767-12aea3a205ea",
      "metadata": {
        "id": "5b3a8e79-f7ab-4008-b767-12aea3a205ea"
      },
      "outputs": [],
      "source": [
        "# текст запроса\n",
        "q_4_5 = f'''\n",
        "    select distinct\n",
        "      experience,\n",
        "      count(id)\n",
        "    from \n",
        "      vacancies\n",
        "    group by 1\n",
        "    order by 2 asc\n",
        "'''"
      ]
    },
    {
      "cell_type": "code",
      "execution_count": 1055,
      "id": "3Is64Y-hpDpq",
      "metadata": {
        "id": "3Is64Y-hpDpq"
      },
      "outputs": [
        {
          "name": "stderr",
          "output_type": "stream",
          "text": [
            "/var/folders/ds/pylxck917yl36y11xbhgmxn80000gn/T/ipykernel_4537/1380712391.py:2: UserWarning: pandas only supports SQLAlchemy connectable (engine/connection) or database string URI or sqlite3 DBAPI2 connection. Other DBAPI2 objects are not tested. Please consider using SQLAlchemy.\n",
            "  df = pd.read_sql_query(q_4_5, connection)\n"
          ]
        },
        {
          "data": {
            "text/html": [
              "<div>\n",
              "<style scoped>\n",
              "    .dataframe tbody tr th:only-of-type {\n",
              "        vertical-align: middle;\n",
              "    }\n",
              "\n",
              "    .dataframe tbody tr th {\n",
              "        vertical-align: top;\n",
              "    }\n",
              "\n",
              "    .dataframe thead th {\n",
              "        text-align: right;\n",
              "    }\n",
              "</style>\n",
              "<table border=\"1\" class=\"dataframe\">\n",
              "  <thead>\n",
              "    <tr style=\"text-align: right;\">\n",
              "      <th></th>\n",
              "      <th>experience</th>\n",
              "      <th>count</th>\n",
              "    </tr>\n",
              "  </thead>\n",
              "  <tbody>\n",
              "    <tr>\n",
              "      <th>0</th>\n",
              "      <td>Более 6 лет</td>\n",
              "      <td>1337</td>\n",
              "    </tr>\n",
              "    <tr>\n",
              "      <th>1</th>\n",
              "      <td>Нет опыта</td>\n",
              "      <td>7197</td>\n",
              "    </tr>\n",
              "    <tr>\n",
              "      <th>2</th>\n",
              "      <td>От 3 до 6 лет</td>\n",
              "      <td>14511</td>\n",
              "    </tr>\n",
              "    <tr>\n",
              "      <th>3</th>\n",
              "      <td>От 1 года до 3 лет</td>\n",
              "      <td>26152</td>\n",
              "    </tr>\n",
              "  </tbody>\n",
              "</table>\n",
              "</div>"
            ],
            "text/plain": [
              "           experience  count\n",
              "0         Более 6 лет   1337\n",
              "1           Нет опыта   7197\n",
              "2       От 3 до 6 лет  14511\n",
              "3  От 1 года до 3 лет  26152"
            ]
          },
          "execution_count": 1055,
          "metadata": {},
          "output_type": "execute_result"
        }
      ],
      "source": [
        "# результат запроса\n",
        "df = pd.read_sql_query(q_4_5, connection)\n",
        "df"
      ]
    },
    {
      "cell_type": "markdown",
      "id": "oq2b7n1QpIka",
      "metadata": {
        "id": "oq2b7n1QpIka"
      },
      "source": [
        "***"
      ]
    },
    {
      "cell_type": "code",
      "execution_count": 1056,
      "id": "e91f87ed-e25c-4f96-9f92-b642e8c0b4fa",
      "metadata": {
        "id": "e91f87ed-e25c-4f96-9f92-b642e8c0b4fa"
      },
      "outputs": [
        {
          "data": {
            "text/plain": [
              "'\\nПодавляющее большинство вакансий требуется в Москве. Примерно в половине случаев границы вознаграждения не указываются, надо думать, они будут определяться \\nпри  рассмотрении конкретного претендента. Работодатели предпочитают режим работы в виде полной занятости при полном дне. \\nБольшинство работодателей вполне удовлетворяет опыт работы кандидатов от 1 года до 3 лет \\n'"
            ]
          },
          "execution_count": 1056,
          "metadata": {},
          "output_type": "execute_result"
        }
      ],
      "source": [
        "# выводы по детальному анализу вакансий\n",
        "'''\n",
        "Подавляющее большинство вакансий требуется в Москве. Примерно в половине случаев границы вознаграждения не указываются, надо думать, они будут определяться \n",
        "при  рассмотрении конкретного претендента. Работодатели предпочитают режим работы в виде полной занятости при полном дне. \n",
        "Большинство работодателей вполне удовлетворяет опыт работы кандидатов от 1 года до 3 лет \n",
        "'''"
      ]
    },
    {
      "cell_type": "markdown",
      "id": "7ea20ab6-04a7-40a0-adec-443a0e5a42c3",
      "metadata": {
        "id": "7ea20ab6-04a7-40a0-adec-443a0e5a42c3"
      },
      "source": [
        "# Юнит 5. Анализ работодателей"
      ]
    },
    {
      "cell_type": "markdown",
      "id": "968aed80-74ef-4ffb-b5bf-c65b84e9caea",
      "metadata": {
        "id": "968aed80-74ef-4ffb-b5bf-c65b84e9caea"
      },
      "source": [
        "1. Напишите запрос, который позволит узнать, какие работодатели находятся на первом и пятом месте по количеству вакансий."
      ]
    },
    {
      "cell_type": "code",
      "execution_count": 1057,
      "id": "f2d62796-d400-4ec1-a675-88112739a50e",
      "metadata": {
        "id": "f2d62796-d400-4ec1-a675-88112739a50e"
      },
      "outputs": [],
      "source": [
        "# текст запроса\n",
        "q_5_1 = f'''\n",
        "    select distinct\n",
        "        e.name,\n",
        "        count(v.name)\n",
        "    from \n",
        "        vacancies v\n",
        "        join employers e on e.id = v.employer_id\n",
        "    group by 1\n",
        "    order by 2 desc\n",
        "    limit 1\n",
        "'''\n",
        "\n",
        "q_5_1_ = f'''\n",
        "    select distinct\n",
        "        e.name,\n",
        "        count(v.name)\n",
        "    from \n",
        "        vacancies v\n",
        "        join employers e on e.id = v.employer_id\n",
        "    group by 1\n",
        "    order by 2 desc\n",
        "    limit 1 offset 4\n",
        "'''"
      ]
    },
    {
      "cell_type": "code",
      "execution_count": 1058,
      "id": "64tOMkAxqkQk",
      "metadata": {
        "id": "64tOMkAxqkQk"
      },
      "outputs": [
        {
          "name": "stderr",
          "output_type": "stream",
          "text": [
            "/var/folders/ds/pylxck917yl36y11xbhgmxn80000gn/T/ipykernel_4537/1474862290.py:2: UserWarning: pandas only supports SQLAlchemy connectable (engine/connection) or database string URI or sqlite3 DBAPI2 connection. Other DBAPI2 objects are not tested. Please consider using SQLAlchemy.\n",
            "  df = pd.read_sql_query(q_5_1, connection)\n",
            "/var/folders/ds/pylxck917yl36y11xbhgmxn80000gn/T/ipykernel_4537/1474862290.py:5: UserWarning: pandas only supports SQLAlchemy connectable (engine/connection) or database string URI or sqlite3 DBAPI2 connection. Other DBAPI2 objects are not tested. Please consider using SQLAlchemy.\n",
            "  df = pd.read_sql_query(q_5_1_, connection)\n"
          ]
        },
        {
          "name": "stdout",
          "output_type": "stream",
          "text": [
            "работодатель на первом по количеству вакансий месте: Яндекс, вакансий 1933\n",
            "работодатель на пятом по количеству вакансий месте: Газпром нефть, вакансий 331\n"
          ]
        }
      ],
      "source": [
        "# результат запроса\n",
        "df = pd.read_sql_query(q_5_1, connection)\n",
        "print(f'работодатель на первом по количеству вакансий месте: {df.iloc[0, 0]}, вакансий {df.iloc[0, 1]}')\n",
        "\n",
        "df = pd.read_sql_query(q_5_1_, connection)\n",
        "print(f'работодатель на пятом по количеству вакансий месте: {df.iloc[0, 0]}, вакансий {df.iloc[0, 1]}')\n"
      ]
    },
    {
      "cell_type": "markdown",
      "id": "68377cfc-b378-43dc-ab7d-1195abf2c515",
      "metadata": {
        "id": "68377cfc-b378-43dc-ab7d-1195abf2c515"
      },
      "source": [
        "2. Напишите запрос, который для каждого региона выведет количество работодателей и вакансий в нём.\n",
        "Среди регионов, в которых нет вакансий, найдите тот, в котором наибольшее количество работодателей.\n"
      ]
    },
    {
      "cell_type": "code",
      "execution_count": 1059,
      "id": "dd7df27a-e3e8-412e-a21a-5d389b71e891",
      "metadata": {
        "id": "dd7df27a-e3e8-412e-a21a-5d389b71e891"
      },
      "outputs": [],
      "source": [
        "# текст запроса\n",
        "\n",
        "q_5_2 = f'''\n",
        "    select \n",
        "        a.name area,\n",
        "        count( v.id) vac,\n",
        "        count( e.id) employer\n",
        "    from \n",
        "        areas a\n",
        "        left join employers e on e.area = a.id\n",
        "        left join vacancies v on v.area_id = a.id\n",
        "    where v.area_id is null\n",
        "    group by 1\n",
        "    order by 3 desc\n",
        "'''"
      ]
    },
    {
      "cell_type": "code",
      "execution_count": 1060,
      "id": "x1ikWbydrbf6",
      "metadata": {
        "id": "x1ikWbydrbf6"
      },
      "outputs": [
        {
          "name": "stderr",
          "output_type": "stream",
          "text": [
            "/var/folders/ds/pylxck917yl36y11xbhgmxn80000gn/T/ipykernel_4537/3030419338.py:2: UserWarning: pandas only supports SQLAlchemy connectable (engine/connection) or database string URI or sqlite3 DBAPI2 connection. Other DBAPI2 objects are not tested. Please consider using SQLAlchemy.\n",
            "  df = pd.read_sql_query(q_5_2, connection)\n"
          ]
        },
        {
          "data": {
            "text/html": [
              "<div>\n",
              "<style scoped>\n",
              "    .dataframe tbody tr th:only-of-type {\n",
              "        vertical-align: middle;\n",
              "    }\n",
              "\n",
              "    .dataframe tbody tr th {\n",
              "        vertical-align: top;\n",
              "    }\n",
              "\n",
              "    .dataframe thead th {\n",
              "        text-align: right;\n",
              "    }\n",
              "</style>\n",
              "<table border=\"1\" class=\"dataframe\">\n",
              "  <thead>\n",
              "    <tr style=\"text-align: right;\">\n",
              "      <th></th>\n",
              "      <th>area</th>\n",
              "      <th>vac</th>\n",
              "      <th>employer</th>\n",
              "    </tr>\n",
              "  </thead>\n",
              "  <tbody>\n",
              "    <tr>\n",
              "      <th>0</th>\n",
              "      <td>Россия</td>\n",
              "      <td>0</td>\n",
              "      <td>410</td>\n",
              "    </tr>\n",
              "    <tr>\n",
              "      <th>1</th>\n",
              "      <td>Казахстан</td>\n",
              "      <td>0</td>\n",
              "      <td>207</td>\n",
              "    </tr>\n",
              "    <tr>\n",
              "      <th>2</th>\n",
              "      <td>Московская область</td>\n",
              "      <td>0</td>\n",
              "      <td>75</td>\n",
              "    </tr>\n",
              "    <tr>\n",
              "      <th>3</th>\n",
              "      <td>Краснодарский край</td>\n",
              "      <td>0</td>\n",
              "      <td>19</td>\n",
              "    </tr>\n",
              "    <tr>\n",
              "      <th>4</th>\n",
              "      <td>Беларусь</td>\n",
              "      <td>0</td>\n",
              "      <td>18</td>\n",
              "    </tr>\n",
              "    <tr>\n",
              "      <th>...</th>\n",
              "      <td>...</td>\n",
              "      <td>...</td>\n",
              "      <td>...</td>\n",
              "    </tr>\n",
              "    <tr>\n",
              "      <th>588</th>\n",
              "      <td>Струнино</td>\n",
              "      <td>0</td>\n",
              "      <td>0</td>\n",
              "    </tr>\n",
              "    <tr>\n",
              "      <th>589</th>\n",
              "      <td>Славгород (Алтайский край)</td>\n",
              "      <td>0</td>\n",
              "      <td>0</td>\n",
              "    </tr>\n",
              "    <tr>\n",
              "      <th>590</th>\n",
              "      <td>Сорочинск</td>\n",
              "      <td>0</td>\n",
              "      <td>0</td>\n",
              "    </tr>\n",
              "    <tr>\n",
              "      <th>591</th>\n",
              "      <td>Ленинский (Тульская область)</td>\n",
              "      <td>0</td>\n",
              "      <td>0</td>\n",
              "    </tr>\n",
              "    <tr>\n",
              "      <th>592</th>\n",
              "      <td>Тавда</td>\n",
              "      <td>0</td>\n",
              "      <td>0</td>\n",
              "    </tr>\n",
              "  </tbody>\n",
              "</table>\n",
              "<p>593 rows × 3 columns</p>\n",
              "</div>"
            ],
            "text/plain": [
              "                             area  vac  employer\n",
              "0                          Россия    0       410\n",
              "1                       Казахстан    0       207\n",
              "2              Московская область    0        75\n",
              "3              Краснодарский край    0        19\n",
              "4                        Беларусь    0        18\n",
              "..                            ...  ...       ...\n",
              "588                      Струнино    0         0\n",
              "589    Славгород (Алтайский край)    0         0\n",
              "590                     Сорочинск    0         0\n",
              "591  Ленинский (Тульская область)    0         0\n",
              "592                         Тавда    0         0\n",
              "\n",
              "[593 rows x 3 columns]"
            ]
          },
          "execution_count": 1060,
          "metadata": {},
          "output_type": "execute_result"
        }
      ],
      "source": [
        "# результат запроса\n",
        "df = pd.read_sql_query(q_5_2, connection)\n",
        "df"
      ]
    },
    {
      "cell_type": "markdown",
      "id": "f2fe0acb-ab1a-4e15-9326-2560e22d73c1",
      "metadata": {
        "id": "f2fe0acb-ab1a-4e15-9326-2560e22d73c1"
      },
      "source": [
        "3. Для каждого работодателя посчитайте количество регионов, в которых он публикует свои вакансии. Отсортируйте результат по убыванию количества.\n"
      ]
    },
    {
      "cell_type": "code",
      "execution_count": 1061,
      "id": "6271f8ad-bd2e-4196-ae4a-5b39c4c1010e",
      "metadata": {
        "id": "6271f8ad-bd2e-4196-ae4a-5b39c4c1010e"
      },
      "outputs": [],
      "source": [
        "# текст запроса\n",
        "\n",
        "q_5_3 = f'''\n",
        "    select \n",
        "        e.name ,\n",
        "        count(distinct v.area_id) vac\n",
        "    from \n",
        "        employers e\n",
        "        left join vacancies v on v.employer_id = e.id\n",
        "        left join areas a on v.area_id = a.id\n",
        "    group by 1\n",
        "    order by 2 desc\n",
        "'''"
      ]
    },
    {
      "cell_type": "code",
      "execution_count": 1062,
      "id": "1EIvX3HasH4F",
      "metadata": {
        "id": "1EIvX3HasH4F"
      },
      "outputs": [
        {
          "name": "stderr",
          "output_type": "stream",
          "text": [
            "/var/folders/ds/pylxck917yl36y11xbhgmxn80000gn/T/ipykernel_4537/3019282801.py:2: UserWarning: pandas only supports SQLAlchemy connectable (engine/connection) or database string URI or sqlite3 DBAPI2 connection. Other DBAPI2 objects are not tested. Please consider using SQLAlchemy.\n",
            "  df = pd.read_sql_query(q_5_3, connection)\n"
          ]
        },
        {
          "data": {
            "text/html": [
              "<div>\n",
              "<style scoped>\n",
              "    .dataframe tbody tr th:only-of-type {\n",
              "        vertical-align: middle;\n",
              "    }\n",
              "\n",
              "    .dataframe tbody tr th {\n",
              "        vertical-align: top;\n",
              "    }\n",
              "\n",
              "    .dataframe thead th {\n",
              "        text-align: right;\n",
              "    }\n",
              "</style>\n",
              "<table border=\"1\" class=\"dataframe\">\n",
              "  <thead>\n",
              "    <tr style=\"text-align: right;\">\n",
              "      <th></th>\n",
              "      <th>name</th>\n",
              "      <th>vac</th>\n",
              "    </tr>\n",
              "  </thead>\n",
              "  <tbody>\n",
              "    <tr>\n",
              "      <th>0</th>\n",
              "      <td>Яндекс</td>\n",
              "      <td>181</td>\n",
              "    </tr>\n",
              "    <tr>\n",
              "      <th>1</th>\n",
              "      <td>Ростелеком</td>\n",
              "      <td>152</td>\n",
              "    </tr>\n",
              "    <tr>\n",
              "      <th>2</th>\n",
              "      <td>Спецремонт</td>\n",
              "      <td>116</td>\n",
              "    </tr>\n",
              "    <tr>\n",
              "      <th>3</th>\n",
              "      <td>Поляков Денис Иванович</td>\n",
              "      <td>88</td>\n",
              "    </tr>\n",
              "    <tr>\n",
              "      <th>4</th>\n",
              "      <td>ООО ЕФИН</td>\n",
              "      <td>71</td>\n",
              "    </tr>\n",
              "    <tr>\n",
              "      <th>...</th>\n",
              "      <td>...</td>\n",
              "      <td>...</td>\n",
              "    </tr>\n",
              "    <tr>\n",
              "      <th>23170</th>\n",
              "      <td>СДЕЛКА</td>\n",
              "      <td>0</td>\n",
              "    </tr>\n",
              "    <tr>\n",
              "      <th>23171</th>\n",
              "      <td>Alandr Group</td>\n",
              "      <td>0</td>\n",
              "    </tr>\n",
              "    <tr>\n",
              "      <th>23172</th>\n",
              "      <td>СДК</td>\n",
              "      <td>0</td>\n",
              "    </tr>\n",
              "    <tr>\n",
              "      <th>23173</th>\n",
              "      <td>Lemon Land Lombard</td>\n",
              "      <td>0</td>\n",
              "    </tr>\n",
              "    <tr>\n",
              "      <th>23174</th>\n",
              "      <td>Махина</td>\n",
              "      <td>0</td>\n",
              "    </tr>\n",
              "  </tbody>\n",
              "</table>\n",
              "<p>23175 rows × 2 columns</p>\n",
              "</div>"
            ],
            "text/plain": [
              "                         name  vac\n",
              "0                      Яндекс  181\n",
              "1                  Ростелеком  152\n",
              "2                  Спецремонт  116\n",
              "3      Поляков Денис Иванович   88\n",
              "4                   ООО ЕФИН    71\n",
              "...                       ...  ...\n",
              "23170                  СДЕЛКА    0\n",
              "23171            Alandr Group    0\n",
              "23172                     СДК    0\n",
              "23173      Lemon Land Lombard    0\n",
              "23174                  Махина    0\n",
              "\n",
              "[23175 rows x 2 columns]"
            ]
          },
          "execution_count": 1062,
          "metadata": {},
          "output_type": "execute_result"
        }
      ],
      "source": [
        "# результат запроса\n",
        "df = pd.read_sql_query(q_5_3, connection)\n",
        "df"
      ]
    },
    {
      "cell_type": "markdown",
      "id": "eab2206d-d95b-468b-8e5f-34381abf0ce7",
      "metadata": {
        "id": "eab2206d-d95b-468b-8e5f-34381abf0ce7"
      },
      "source": [
        "4. Напишите запрос для подсчёта количества работодателей, у которых не указана сфера деятельности."
      ]
    },
    {
      "cell_type": "code",
      "execution_count": 1063,
      "id": "80defb23-bfb1-4a18-8be6-bf36aa7165d5",
      "metadata": {
        "id": "80defb23-bfb1-4a18-8be6-bf36aa7165d5"
      },
      "outputs": [],
      "source": [
        "# текст запроса\n",
        "\n",
        "q_5_4 = f'''\n",
        "        select\n",
        "            count(e.id)\n",
        "            \n",
        "        from \n",
        "            employers e\n",
        "            left join EMPLOYERS_INDUSTRIES i on e.id = i.employer_id\n",
        "        where i.industry_id is null\n",
        "'''"
      ]
    },
    {
      "cell_type": "code",
      "execution_count": 1064,
      "id": "Dp_yCx6ysQSu",
      "metadata": {
        "id": "Dp_yCx6ysQSu"
      },
      "outputs": [
        {
          "name": "stdout",
          "output_type": "stream",
          "text": [
            "количество работодателей у которых не указана сфера деятельности - 8419\n"
          ]
        },
        {
          "name": "stderr",
          "output_type": "stream",
          "text": [
            "/var/folders/ds/pylxck917yl36y11xbhgmxn80000gn/T/ipykernel_4537/111192015.py:2: UserWarning: pandas only supports SQLAlchemy connectable (engine/connection) or database string URI or sqlite3 DBAPI2 connection. Other DBAPI2 objects are not tested. Please consider using SQLAlchemy.\n",
            "  print(f'количество работодателей у которых не указана сфера деятельности - {pd.read_sql_query(q_5_4, connection).iloc[0,0]}')\n"
          ]
        }
      ],
      "source": [
        "# результат запроса\n",
        "print(f'количество работодателей у которых не указана сфера деятельности - {pd.read_sql_query(q_5_4, connection).iloc[0,0]}')"
      ]
    },
    {
      "cell_type": "markdown",
      "id": "0112af31-f6b0-4e3b-82ab-71296e752e5e",
      "metadata": {
        "id": "0112af31-f6b0-4e3b-82ab-71296e752e5e"
      },
      "source": [
        "5. Напишите запрос, чтобы узнать название компании, находящейся на третьем месте в алфавитном списке (по названию) компаний, у которых указано четыре сферы деятельности."
      ]
    },
    {
      "cell_type": "code",
      "execution_count": 1065,
      "id": "973b0cfc-a972-470a-8b4a-68744ef220c4",
      "metadata": {
        "id": "973b0cfc-a972-470a-8b4a-68744ef220c4"
      },
      "outputs": [],
      "source": [
        "# текст запроса\n",
        "\n",
        "q_5_5 = f'''\n",
        "    select\n",
        "        distinct e.name,\n",
        "        count(i.industry_id)\n",
        "    from \n",
        "        employers e\n",
        "        join EMPLOYERS_INDUSTRIES i on i.employer_id = e.id\n",
        "    group by 1\n",
        "    having count(i.industry_id) = 4\n",
        "    order by 1\n",
        "    limit 1 offset 2\n",
        "'''"
      ]
    },
    {
      "cell_type": "code",
      "execution_count": 1066,
      "id": "xsPtpp8EsaED",
      "metadata": {
        "id": "xsPtpp8EsaED"
      },
      "outputs": [
        {
          "name": "stdout",
          "output_type": "stream",
          "text": [
            "компания, находящаяся на третьем месте в списке компаний, у которых указано четыре сферы деятельности - 2ГИС\n"
          ]
        },
        {
          "name": "stderr",
          "output_type": "stream",
          "text": [
            "/var/folders/ds/pylxck917yl36y11xbhgmxn80000gn/T/ipykernel_4537/1802824639.py:2: UserWarning: pandas only supports SQLAlchemy connectable (engine/connection) or database string URI or sqlite3 DBAPI2 connection. Other DBAPI2 objects are not tested. Please consider using SQLAlchemy.\n",
            "  print(f'компания, находящаяся на третьем месте в списке компаний, у которых указано четыре сферы деятельности - {pd.read_sql_query(q_5_5, connection).iloc[0, 0]}')\n"
          ]
        }
      ],
      "source": [
        "# результат запроса\n",
        "print(f'компания, находящаяся на третьем месте в списке компаний, у которых указано четыре сферы деятельности - {pd.read_sql_query(q_5_5, connection).iloc[0, 0]}')"
      ]
    },
    {
      "cell_type": "markdown",
      "id": "3bfcfdaf-755d-4d2b-8ed8-326201dc07ab",
      "metadata": {
        "id": "3bfcfdaf-755d-4d2b-8ed8-326201dc07ab"
      },
      "source": [
        "6. С помощью запроса выясните, у какого количества работодателей в качестве сферы деятельности указана Разработка программного обеспечения.\n"
      ]
    },
    {
      "cell_type": "code",
      "execution_count": 1067,
      "id": "ad3f270f-2991-47eb-929b-e8f88a55b0d1",
      "metadata": {
        "id": "ad3f270f-2991-47eb-929b-e8f88a55b0d1"
      },
      "outputs": [],
      "source": [
        "# текст запроса\n",
        "\n",
        "q_5_6 = f'''\n",
        "    select\n",
        "        count(distinct e.id)\n",
        "    from \n",
        "        employers e\n",
        "        join EMPLOYERS_INDUSTRIES ei on ei.employer_id = e.id\n",
        "        join industries i on i.id = ei.industry_id\n",
        "    where i.name = 'Разработка программного обеспечения'\n",
        "'''"
      ]
    },
    {
      "cell_type": "code",
      "execution_count": 1068,
      "id": "H72qxWM0shPR",
      "metadata": {
        "id": "H72qxWM0shPR"
      },
      "outputs": [
        {
          "name": "stdout",
          "output_type": "stream",
          "text": [
            "У 3553 работодателей в качестве сферы деятельности указана Разработка программного обеспечения\n"
          ]
        },
        {
          "name": "stderr",
          "output_type": "stream",
          "text": [
            "/var/folders/ds/pylxck917yl36y11xbhgmxn80000gn/T/ipykernel_4537/741681399.py:2: UserWarning: pandas only supports SQLAlchemy connectable (engine/connection) or database string URI or sqlite3 DBAPI2 connection. Other DBAPI2 objects are not tested. Please consider using SQLAlchemy.\n",
            "  print(f'У {pd.read_sql_query(q_5_6, connection).iloc[0, 0]} работодателей в качестве сферы деятельности указана Разработка программного обеспечения')\n"
          ]
        }
      ],
      "source": [
        "# результат запроса\n",
        "print(f'У {pd.read_sql_query(q_5_6, connection).iloc[0, 0]} работодателей в качестве сферы деятельности указана Разработка программного обеспечения')"
      ]
    },
    {
      "cell_type": "markdown",
      "id": "7b02bb86-0546-40fb-94a4-242f050a5c57",
      "metadata": {
        "id": "7b02bb86-0546-40fb-94a4-242f050a5c57"
      },
      "source": [
        "7. Для компании «Яндекс» выведите список регионов-миллионников, в которых представлены вакансии компании, вместе с количеством вакансий в этих регионах. Также добавьте строку Total с общим количеством вакансий компании. Результат отсортируйте по возрастанию количества.\n",
        "\n",
        "Список городов-милионников надо взять [отсюда](https://ru.wikipedia.org/wiki/%D0%93%D0%BE%D1%80%D0%BE%D0%B4%D0%B0-%D0%BC%D0%B8%D0%BB%D0%BB%D0%B8%D0%BE%D0%BD%D0%B5%D1%80%D1%8B_%D0%A0%D0%BE%D1%81%D1%81%D0%B8%D0%B8).\n",
        "\n",
        "Если возникнут трудности с этим задание посмотрите материалы модуля  PYTHON-17. Как получать данные из веб-источников и API."
      ]
    },
    {
      "cell_type": "code",
      "execution_count": 1069,
      "id": "ZdfrL6gIs1Pn",
      "metadata": {
        "id": "ZdfrL6gIs1Pn"
      },
      "outputs": [],
      "source": [
        "# код для получения списка городов-милионников\n",
        "\n",
        "from urllib.parse import quote_plus\n",
        "url = quote_plus('https://ru.wikipedia.org/wiki/Города-миллионеры_России', safe=':/')\n",
        "tables = pd.read_html(url)\n",
        "cities = tuple(tables[0]['Город'])\n",
        "# print(cities)\n"
      ]
    },
    {
      "cell_type": "code",
      "execution_count": 1070,
      "id": "5a0e32a4-e68a-4365-8a39-2fe24c542c36",
      "metadata": {
        "id": "5a0e32a4-e68a-4365-8a39-2fe24c542c36"
      },
      "outputs": [],
      "source": [
        "# текст запроса\n",
        "q_5_7 = f'''\n",
        "    select\n",
        "        a.name region, \n",
        "        count(v.id)\n",
        "    from \n",
        "        employers e\n",
        "        join vacancies v on v.employer_id = e.id\n",
        "        join areas a on v.area_id = a.id\n",
        "    where e.name = 'Яндекс' and a.name in {cities}\n",
        "    group by a.name, e.name\n",
        "    union \n",
        "    select\n",
        "        'total' region,\n",
        "        count(v.id)\n",
        "    from \n",
        "        employers e\n",
        "        join vacancies v on v.employer_id = e.id\n",
        "        join areas a on v.area_id = a.id\n",
        "    where e.name = 'Яндекс' and a.name in {cities}\n",
        "    group by e.name\n",
        "    order by 2 asc\n",
        "'''\n"
      ]
    },
    {
      "cell_type": "code",
      "execution_count": 1071,
      "id": "ttPhiO1rsvPq",
      "metadata": {
        "id": "ttPhiO1rsvPq"
      },
      "outputs": [
        {
          "name": "stderr",
          "output_type": "stream",
          "text": [
            "/var/folders/ds/pylxck917yl36y11xbhgmxn80000gn/T/ipykernel_4537/3401293759.py:2: UserWarning: pandas only supports SQLAlchemy connectable (engine/connection) or database string URI or sqlite3 DBAPI2 connection. Other DBAPI2 objects are not tested. Please consider using SQLAlchemy.\n",
            "  df = pd.read_sql_query(q_5_7, connection)\n"
          ]
        },
        {
          "data": {
            "text/html": [
              "<div>\n",
              "<style scoped>\n",
              "    .dataframe tbody tr th:only-of-type {\n",
              "        vertical-align: middle;\n",
              "    }\n",
              "\n",
              "    .dataframe tbody tr th {\n",
              "        vertical-align: top;\n",
              "    }\n",
              "\n",
              "    .dataframe thead th {\n",
              "        text-align: right;\n",
              "    }\n",
              "</style>\n",
              "<table border=\"1\" class=\"dataframe\">\n",
              "  <thead>\n",
              "    <tr style=\"text-align: right;\">\n",
              "      <th></th>\n",
              "      <th>region</th>\n",
              "      <th>count</th>\n",
              "    </tr>\n",
              "  </thead>\n",
              "  <tbody>\n",
              "    <tr>\n",
              "      <th>0</th>\n",
              "      <td>Омск</td>\n",
              "      <td>21</td>\n",
              "    </tr>\n",
              "    <tr>\n",
              "      <th>1</th>\n",
              "      <td>Челябинск</td>\n",
              "      <td>22</td>\n",
              "    </tr>\n",
              "    <tr>\n",
              "      <th>2</th>\n",
              "      <td>Красноярск</td>\n",
              "      <td>23</td>\n",
              "    </tr>\n",
              "    <tr>\n",
              "      <th>3</th>\n",
              "      <td>Волгоград</td>\n",
              "      <td>24</td>\n",
              "    </tr>\n",
              "    <tr>\n",
              "      <th>4</th>\n",
              "      <td>Пермь</td>\n",
              "      <td>25</td>\n",
              "    </tr>\n",
              "    <tr>\n",
              "      <th>5</th>\n",
              "      <td>Казань</td>\n",
              "      <td>25</td>\n",
              "    </tr>\n",
              "    <tr>\n",
              "      <th>6</th>\n",
              "      <td>Ростов-на-Дону</td>\n",
              "      <td>25</td>\n",
              "    </tr>\n",
              "    <tr>\n",
              "      <th>7</th>\n",
              "      <td>Уфа</td>\n",
              "      <td>26</td>\n",
              "    </tr>\n",
              "    <tr>\n",
              "      <th>8</th>\n",
              "      <td>Самара</td>\n",
              "      <td>26</td>\n",
              "    </tr>\n",
              "    <tr>\n",
              "      <th>9</th>\n",
              "      <td>Краснодар</td>\n",
              "      <td>30</td>\n",
              "    </tr>\n",
              "    <tr>\n",
              "      <th>10</th>\n",
              "      <td>Воронеж</td>\n",
              "      <td>32</td>\n",
              "    </tr>\n",
              "    <tr>\n",
              "      <th>11</th>\n",
              "      <td>Новосибирск</td>\n",
              "      <td>35</td>\n",
              "    </tr>\n",
              "    <tr>\n",
              "      <th>12</th>\n",
              "      <td>Нижний Новгород</td>\n",
              "      <td>36</td>\n",
              "    </tr>\n",
              "    <tr>\n",
              "      <th>13</th>\n",
              "      <td>Екатеринбург</td>\n",
              "      <td>39</td>\n",
              "    </tr>\n",
              "    <tr>\n",
              "      <th>14</th>\n",
              "      <td>Санкт-Петербург</td>\n",
              "      <td>42</td>\n",
              "    </tr>\n",
              "    <tr>\n",
              "      <th>15</th>\n",
              "      <td>Москва</td>\n",
              "      <td>54</td>\n",
              "    </tr>\n",
              "    <tr>\n",
              "      <th>16</th>\n",
              "      <td>total</td>\n",
              "      <td>485</td>\n",
              "    </tr>\n",
              "  </tbody>\n",
              "</table>\n",
              "</div>"
            ],
            "text/plain": [
              "             region  count\n",
              "0              Омск     21\n",
              "1         Челябинск     22\n",
              "2        Красноярск     23\n",
              "3         Волгоград     24\n",
              "4             Пермь     25\n",
              "5            Казань     25\n",
              "6    Ростов-на-Дону     25\n",
              "7               Уфа     26\n",
              "8            Самара     26\n",
              "9         Краснодар     30\n",
              "10          Воронеж     32\n",
              "11      Новосибирск     35\n",
              "12  Нижний Новгород     36\n",
              "13     Екатеринбург     39\n",
              "14  Санкт-Петербург     42\n",
              "15           Москва     54\n",
              "16            total    485"
            ]
          },
          "execution_count": 1071,
          "metadata": {},
          "output_type": "execute_result"
        }
      ],
      "source": [
        "# результат запроса\n",
        "df = pd.read_sql_query(q_5_7, connection)\n",
        "df"
      ]
    },
    {
      "cell_type": "markdown",
      "id": "04966e40-3bc3-4dc8-9ba2-e80580ce3abc",
      "metadata": {
        "id": "04966e40-3bc3-4dc8-9ba2-e80580ce3abc"
      },
      "source": [
        "***"
      ]
    },
    {
      "cell_type": "code",
      "execution_count": 1072,
      "id": "aGGyER-yt4SR",
      "metadata": {
        "id": "aGGyER-yt4SR"
      },
      "outputs": [
        {
          "data": {
            "text/plain": [
              "'\\nАнализ работодателей позволил определить тех из них, кто нуждается в наибольшем числе работников, а также распределение вакансий по регионам. \\nКосвенно, по количеству вакансий в том или ином регионе можно определить активность конкретного работодателя в этом регионе. Кроме того, можно предположить, что\\nв регионах где нет вакансий деловая активность работодателей в целом невысока. Обсуждаемый анализ помимо прочего даёт представление о сферах деятельности наиболее и наименее \\nнуждающихся в кадрах и сделать вывод о развитии той или иной отрасли.\\n'"
            ]
          },
          "execution_count": 1072,
          "metadata": {},
          "output_type": "execute_result"
        }
      ],
      "source": [
        "# выводы по анализу работодателей\n",
        "'''\n",
        "Анализ работодателей позволил определить тех из них, кто нуждается в наибольшем числе работников, а также распределение вакансий по регионам. \n",
        "Косвенно, по количеству вакансий в том или ином регионе можно определить активность конкретного работодателя в этом регионе. Кроме того, можно предположить, что\n",
        "в регионах где нет вакансий деловая активность работодателей в целом невысока. Обсуждаемый анализ помимо прочего даёт представление о сферах деятельности наиболее и наименее \n",
        "нуждающихся в кадрах и сделать вывод о развитии той или иной отрасли.\n",
        "'''"
      ]
    },
    {
      "cell_type": "markdown",
      "id": "b1ef156a-efcb-49ce-bb23-90763e7f35b2",
      "metadata": {
        "id": "b1ef156a-efcb-49ce-bb23-90763e7f35b2",
        "tags": []
      },
      "source": [
        "# Юнит 6. Предметный анализ"
      ]
    },
    {
      "cell_type": "markdown",
      "id": "b9cd50a0-992d-4988-8463-2b2b1c4629b4",
      "metadata": {
        "id": "b9cd50a0-992d-4988-8463-2b2b1c4629b4"
      },
      "source": [
        "1. Сколько вакансий имеет отношение к данным?\n",
        "\n",
        "Считаем, что вакансия имеет отношение к данным, если в её названии содержатся слова 'data' или 'данн'.\n",
        "\n",
        "*Подсказка: Обратите внимание, что названия вакансий могут быть написаны в любом регистре.*\n"
      ]
    },
    {
      "cell_type": "code",
      "execution_count": 1073,
      "id": "54ab0e50-c0f1-47cc-a54b-bc5c8bc363f9",
      "metadata": {
        "id": "54ab0e50-c0f1-47cc-a54b-bc5c8bc363f9"
      },
      "outputs": [],
      "source": [
        "# текст запроса\n",
        "q_6_1 = f'''\n",
        "    select\n",
        "        count(v.id)\n",
        "    from \n",
        "        vacancies v\n",
        "    where (lower(v.name) like '%data%') or (lower(v.name) like '%данн%')\n",
        "    \n",
        "'''"
      ]
    },
    {
      "cell_type": "code",
      "execution_count": 1074,
      "id": "9F1meAqsuUjd",
      "metadata": {
        "id": "9F1meAqsuUjd"
      },
      "outputs": [
        {
          "name": "stdout",
          "output_type": "stream",
          "text": [
            "Вакансий, имеющих отношение к данным - 1771\n"
          ]
        },
        {
          "name": "stderr",
          "output_type": "stream",
          "text": [
            "/var/folders/ds/pylxck917yl36y11xbhgmxn80000gn/T/ipykernel_4537/4152954377.py:2: UserWarning: pandas only supports SQLAlchemy connectable (engine/connection) or database string URI or sqlite3 DBAPI2 connection. Other DBAPI2 objects are not tested. Please consider using SQLAlchemy.\n",
            "  print(f'Вакансий, имеющих отношение к данным - {pd.read_sql_query(q_6_1, connection).iloc[0, 0]}')\n"
          ]
        }
      ],
      "source": [
        "# результат запроса\n",
        "print(f'Вакансий, имеющих отношение к данным - {pd.read_sql_query(q_6_1, connection).iloc[0, 0]}')"
      ]
    },
    {
      "cell_type": "markdown",
      "id": "4dea20cb-a36b-474a-a0b9-e08e8e3857a5",
      "metadata": {
        "id": "4dea20cb-a36b-474a-a0b9-e08e8e3857a5"
      },
      "source": [
        "2. Сколько есть подходящих вакансий для начинающего дата-сайентиста?\n",
        "Будем считать вакансиями для дата-сайентистов такие, в названии которых есть хотя бы одно из следующих сочетаний:\n",
        "* 'data scientist'\n",
        "* 'data science'\n",
        "* 'исследователь данных'\n",
        "* 'ML' (здесь не нужно брать вакансии по HTML)\n",
        "* 'machine learning'\n",
        "* 'машинн%обучен%'\n",
        "\n",
        "** В следующих заданиях мы продолжим работать с вакансиями по этому условию.*\n",
        "\n",
        "Считаем вакансиями для специалистов уровня Junior следующие:\n",
        "* в названии есть слово 'junior' *или*\n",
        "* требуемый опыт — Нет опыта *или*\n",
        "* тип трудоустройства — Стажировка.\n"
      ]
    },
    {
      "cell_type": "code",
      "execution_count": 1075,
      "id": "9c61b3c0-bb66-46c9-ae1e-81d3f5752b4a",
      "metadata": {
        "id": "9c61b3c0-bb66-46c9-ae1e-81d3f5752b4a"
      },
      "outputs": [],
      "source": [
        "# текст запроса\n",
        "q_6_2 = f'''\n",
        "    select\n",
        "        count( id)\n",
        "    from \n",
        "        vacancies v\n",
        "    where (lower(name) like '%data scientist%' \n",
        "        or lower(name) like '%data science%' \n",
        "        or lower(name) like '%исследователь данных%'\n",
        "        or ((name like '%ML%') and (name not like '%HTML%')) \n",
        "        or lower(name) like '%machine learning%' \n",
        "        or lower(name) like '%машинн%обучен%')\n",
        "        and\n",
        "        (lower(name) like '%junior%'\n",
        "        or experience = 'Нет опыта' \n",
        "        or employment = 'Стажировка')\n",
        "'''"
      ]
    },
    {
      "cell_type": "code",
      "execution_count": 1076,
      "id": "ZNM-LLYuu1dj",
      "metadata": {
        "id": "ZNM-LLYuu1dj"
      },
      "outputs": [
        {
          "name": "stderr",
          "output_type": "stream",
          "text": [
            "/var/folders/ds/pylxck917yl36y11xbhgmxn80000gn/T/ipykernel_4537/2825139740.py:2: UserWarning: pandas only supports SQLAlchemy connectable (engine/connection) or database string URI or sqlite3 DBAPI2 connection. Other DBAPI2 objects are not tested. Please consider using SQLAlchemy.\n",
            "  print(f'вакансий для начинающего дата-сайентиста - {pd.read_sql_query(q_6_2, connection).iloc[0, 0]}')\n"
          ]
        },
        {
          "name": "stdout",
          "output_type": "stream",
          "text": [
            "вакансий для начинающего дата-сайентиста - 51\n"
          ]
        }
      ],
      "source": [
        "# результат запроса\n",
        "print(f'вакансий для начинающего дата-сайентиста - {pd.read_sql_query(q_6_2, connection).iloc[0, 0]}')\n"
      ]
    },
    {
      "cell_type": "markdown",
      "id": "eedceb80-c5ca-480e-b27a-278dfb8b4438",
      "metadata": {
        "id": "eedceb80-c5ca-480e-b27a-278dfb8b4438"
      },
      "source": [
        "3. Сколько есть вакансий для DS, в которых в качестве ключевого навыка указан SQL или postgres?\n",
        "\n",
        "** Критерии для отнесения вакансии к DS указаны в предыдущем задании.*"
      ]
    },
    {
      "cell_type": "code",
      "execution_count": 1077,
      "id": "69621713-0cc5-4f1b-a1d7-bb144fa6148c",
      "metadata": {
        "id": "69621713-0cc5-4f1b-a1d7-bb144fa6148c"
      },
      "outputs": [],
      "source": [
        "# текст запроса\n",
        "q_6_3 = f'''SELECT \n",
        "               count(name) as n_vac\n",
        "            FROM \n",
        "               vacancies\n",
        "            WHERE (lower(name) LIKE '%data scientist%' \n",
        "                or lower(name) LIKE '%data science%' \n",
        "                or lower(name) LIKE '%исследователь данных%' \n",
        "                or lower(name) LIKE '%ml%' and name NOT LIKE '%HTML%' and name not like '%QML%' \n",
        "                or lower(name) LIKE '%machine learning%' \n",
        "                or lower(name) LIKE '%машинн%обучен%') \n",
        "                and(lower(key_skills) LIKE '%postgres%'\n",
        "                or lower(key_skills) LIKE '%sql%')\n",
        "             '''"
      ]
    },
    {
      "cell_type": "code",
      "execution_count": 1078,
      "id": "alA8WEAAvGdf",
      "metadata": {
        "id": "alA8WEAAvGdf"
      },
      "outputs": [
        {
          "name": "stderr",
          "output_type": "stream",
          "text": [
            "/var/folders/ds/pylxck917yl36y11xbhgmxn80000gn/T/ipykernel_4537/1257662247.py:2: UserWarning: pandas only supports SQLAlchemy connectable (engine/connection) or database string URI or sqlite3 DBAPI2 connection. Other DBAPI2 objects are not tested. Please consider using SQLAlchemy.\n",
            "  print(f'вакансий для DS, в которых в качестве ключевого навыка указан SQL или postgres - {pd.read_sql_query(q_6_3, connection).iloc[0, 0]}')\n"
          ]
        },
        {
          "name": "stdout",
          "output_type": "stream",
          "text": [
            "вакансий для DS, в которых в качестве ключевого навыка указан SQL или postgres - 229\n"
          ]
        }
      ],
      "source": [
        "# результат запроса\n",
        "print(f'вакансий для DS, в которых в качестве ключевого навыка указан SQL или postgres - {pd.read_sql_query(q_6_3, connection).iloc[0, 0]}')"
      ]
    },
    {
      "cell_type": "markdown",
      "id": "1be1e9c6-37cf-4a5f-bfeb-04cab799dc80",
      "metadata": {
        "id": "1be1e9c6-37cf-4a5f-bfeb-04cab799dc80"
      },
      "source": [
        "4. Проверьте, насколько популярен Python в требованиях работодателей к DS.Для этого вычислите количество вакансий, в которых в качестве ключевого навыка указан Python.\n",
        "\n",
        "** Это можно сделать помощью запроса, аналогичного предыдущему.*"
      ]
    },
    {
      "cell_type": "code",
      "execution_count": 1079,
      "id": "0036a355-9ccf-4564-8b01-73d8194297e7",
      "metadata": {
        "id": "0036a355-9ccf-4564-8b01-73d8194297e7"
      },
      "outputs": [],
      "source": [
        "# текст запроса\n",
        "q_6_4 = f'''SELECT \n",
        "               count(name)\n",
        "            FROM \n",
        "               vacancies\n",
        "            WHERE (lower(name) LIKE '%data scientist%' \n",
        "                or lower(name) LIKE '%data science%' \n",
        "                or lower(name) LIKE '%исследователь данных%' \n",
        "                or lower(name) LIKE '%ml%' and vacancies.name NOT LIKE '%HTML%' and vacancies.name not like '%QML%' \n",
        "                or lower(name) LIKE '%machine learning%' \n",
        "                or lower(name) LIKE '%машинн%обучен%') \n",
        "                and lower(key_skills) LIKE '%python%'\n",
        "             '''"
      ]
    },
    {
      "cell_type": "code",
      "execution_count": 1080,
      "id": "1i-5WyucvQ6v",
      "metadata": {
        "id": "1i-5WyucvQ6v"
      },
      "outputs": [
        {
          "name": "stdout",
          "output_type": "stream",
          "text": [
            "количество вакансий, в которых в качестве ключевого навыка указан Python - 357\n"
          ]
        },
        {
          "name": "stderr",
          "output_type": "stream",
          "text": [
            "/var/folders/ds/pylxck917yl36y11xbhgmxn80000gn/T/ipykernel_4537/350873890.py:2: UserWarning: pandas only supports SQLAlchemy connectable (engine/connection) or database string URI or sqlite3 DBAPI2 connection. Other DBAPI2 objects are not tested. Please consider using SQLAlchemy.\n",
            "  print(f'количество вакансий, в которых в качестве ключевого навыка указан Python - {pd.read_sql_query(q_6_4, connection).iloc[0, 0]}')\n"
          ]
        }
      ],
      "source": [
        "# результат запроса\n",
        "print(f'количество вакансий, в которых в качестве ключевого навыка указан Python - {pd.read_sql_query(q_6_4, connection).iloc[0, 0]}')"
      ]
    },
    {
      "cell_type": "markdown",
      "id": "ec3c8db7-fa21-4a41-a994-1af63742a642",
      "metadata": {
        "id": "ec3c8db7-fa21-4a41-a994-1af63742a642"
      },
      "source": [
        "5. Сколько ключевых навыков в среднем указывают в вакансиях для DS?\n",
        "Ответ округлите до двух знаков после точки-разделителя."
      ]
    },
    {
      "cell_type": "code",
      "execution_count": 1081,
      "id": "949132bc-d5b6-4611-8218-0b9a504d74f4",
      "metadata": {
        "id": "949132bc-d5b6-4611-8218-0b9a504d74f4"
      },
      "outputs": [],
      "source": [
        "# текст запроса\n",
        "q_6_5 = f'''SELECT \n",
        "               round(avg(length(key_skills) - length(replace(key_skills, chr(9), '')) + 1), 2)\n",
        "            FROM \n",
        "               vacancies\n",
        "            WHERE (lower(name) LIKE '%data scientist%' \n",
        "                or lower(name) LIKE '%data science%' \n",
        "                or lower(name) LIKE '%исследователь данных%' \n",
        "                or (name LIKE '%ML%' and name NOT LIKE '%HTML%')\n",
        "                or lower(name) LIKE '%machine learning%' \n",
        "                or lower(name) LIKE '%машинн%обучен%') \n",
        "                and key_skills is not null\n",
        "             '''"
      ]
    },
    {
      "cell_type": "code",
      "execution_count": 1082,
      "id": "a3V24Tvmviqk",
      "metadata": {
        "id": "a3V24Tvmviqk"
      },
      "outputs": [
        {
          "name": "stderr",
          "output_type": "stream",
          "text": [
            "/var/folders/ds/pylxck917yl36y11xbhgmxn80000gn/T/ipykernel_4537/983463848.py:2: UserWarning: pandas only supports SQLAlchemy connectable (engine/connection) or database string URI or sqlite3 DBAPI2 connection. Other DBAPI2 objects are not tested. Please consider using SQLAlchemy.\n",
            "  print(f'ключевых навыков в среднем указывают в вакансиях для DS - {pd.read_sql_query(q_6_5, connection).iloc[0, 0]}')\n"
          ]
        },
        {
          "name": "stdout",
          "output_type": "stream",
          "text": [
            "ключевых навыков в среднем указывают в вакансиях для DS - 6.41\n"
          ]
        }
      ],
      "source": [
        "# результат запроса\n",
        "print(f'ключевых навыков в среднем указывают в вакансиях для DS - {pd.read_sql_query(q_6_5, connection).iloc[0, 0]}')"
      ]
    },
    {
      "cell_type": "markdown",
      "id": "1041c17a-ca8f-4543-a0ca-32778914fb00",
      "metadata": {
        "id": "1041c17a-ca8f-4543-a0ca-32778914fb00"
      },
      "source": [
        "6. Напишите запрос, позволяющий вычислить, какую зарплату для DS в **среднем** указывают для каждого типа требуемого опыта (уникальное значение из поля *experience*).\n",
        "\n",
        "При решении задачи примите во внимание следующее:\n",
        "1. Рассматриваем только вакансии, у которых заполнено хотя бы одно из двух полей с зарплатой.\n",
        "2. Если заполнены оба поля с зарплатой, то считаем зарплату по каждой вакансии как сумму двух полей, делённую на 2. Если заполнено только одно из полей, то его и считаем зарплатой по вакансии.\n",
        "3. Если в расчётах участвует null, в результате он тоже даст null (посмотрите, что возвращает запрос select 1 + null). Чтобы избежать этой ситуацию, мы воспользуемся функцией [coalesce](https://postgrespro.ru/docs/postgresql/9.5/functions-conditional#functions-coalesce-nvl-ifnull), которая заменит null на значение, которое мы передадим. Например, посмотрите, что возвращает запрос `select 1 + coalesce(null, 0)`\n",
        "\n",
        "Выясните, на какую зарплату в среднем может рассчитывать дата-сайентист с опытом работы от 3 до 6 лет. Результат округлите до целого числа."
      ]
    },
    {
      "cell_type": "code",
      "execution_count": 1083,
      "id": "ae381d97",
      "metadata": {},
      "outputs": [],
      "source": [
        "q_6_6 = f'''\n",
        "SELECT\n",
        "    experience,\n",
        "    round(AVG(coalesce((salary_from+salary_to)/2, salary_from, salary_to))) as result\n",
        "FROM \n",
        "    vacancies \n",
        "WHERE \n",
        "    (salary_from IS not NULL or salary_to IS not NULL) and\n",
        "    (name ilike '%data scientist%'\n",
        "    or name ilike '%data science%'\n",
        "    or name ilike '%исследователь данных%'\n",
        "    or name ilike '%machine learning%'\n",
        "    or name ilike '%машинн%обучен%'\n",
        "    or (name not ilike '%HTML%' and name like '%ML%'))\n",
        "GROUP BY 1\n",
        "'''"
      ]
    },
    {
      "cell_type": "code",
      "execution_count": 1084,
      "id": "aRIJ0mZEwU1_",
      "metadata": {
        "id": "aRIJ0mZEwU1_"
      },
      "outputs": [
        {
          "name": "stderr",
          "output_type": "stream",
          "text": [
            "/var/folders/ds/pylxck917yl36y11xbhgmxn80000gn/T/ipykernel_4537/1797780120.py:2: UserWarning: pandas only supports SQLAlchemy connectable (engine/connection) or database string URI or sqlite3 DBAPI2 connection. Other DBAPI2 objects are not tested. Please consider using SQLAlchemy.\n",
            "  print(f'дата-сайентист с опытом работы от 3 до 6 лет в среднем может рассчитывать на зарплату - {pd.read_sql_query(q_6_6, connection).iloc[2, 1]}')\n"
          ]
        },
        {
          "name": "stdout",
          "output_type": "stream",
          "text": [
            "дата-сайентист с опытом работы от 3 до 6 лет в среднем может рассчитывать на зарплату - 243115.0\n"
          ]
        },
        {
          "name": "stderr",
          "output_type": "stream",
          "text": [
            "/var/folders/ds/pylxck917yl36y11xbhgmxn80000gn/T/ipykernel_4537/1797780120.py:3: UserWarning: pandas only supports SQLAlchemy connectable (engine/connection) or database string URI or sqlite3 DBAPI2 connection. Other DBAPI2 objects are not tested. Please consider using SQLAlchemy.\n",
            "  df = pd.read_sql_query(q_6_6, connection)\n"
          ]
        },
        {
          "data": {
            "text/html": [
              "<div>\n",
              "<style scoped>\n",
              "    .dataframe tbody tr th:only-of-type {\n",
              "        vertical-align: middle;\n",
              "    }\n",
              "\n",
              "    .dataframe tbody tr th {\n",
              "        vertical-align: top;\n",
              "    }\n",
              "\n",
              "    .dataframe thead th {\n",
              "        text-align: right;\n",
              "    }\n",
              "</style>\n",
              "<table border=\"1\" class=\"dataframe\">\n",
              "  <thead>\n",
              "    <tr style=\"text-align: right;\">\n",
              "      <th></th>\n",
              "      <th>experience</th>\n",
              "      <th>result</th>\n",
              "    </tr>\n",
              "  </thead>\n",
              "  <tbody>\n",
              "    <tr>\n",
              "      <th>0</th>\n",
              "      <td>Нет опыта</td>\n",
              "      <td>74643.0</td>\n",
              "    </tr>\n",
              "    <tr>\n",
              "      <th>1</th>\n",
              "      <td>От 1 года до 3 лет</td>\n",
              "      <td>139675.0</td>\n",
              "    </tr>\n",
              "    <tr>\n",
              "      <th>2</th>\n",
              "      <td>От 3 до 6 лет</td>\n",
              "      <td>243115.0</td>\n",
              "    </tr>\n",
              "  </tbody>\n",
              "</table>\n",
              "</div>"
            ],
            "text/plain": [
              "           experience    result\n",
              "0           Нет опыта   74643.0\n",
              "1  От 1 года до 3 лет  139675.0\n",
              "2       От 3 до 6 лет  243115.0"
            ]
          },
          "execution_count": 1084,
          "metadata": {},
          "output_type": "execute_result"
        }
      ],
      "source": [
        "# результат запроса\n",
        "print(f'дата-сайентист с опытом работы от 3 до 6 лет в среднем может рассчитывать на зарплату - {pd.read_sql_query(q_6_6, connection).iloc[2, 1]}')\n",
        "df = pd.read_sql_query(q_6_6, connection)\n",
        "df"
      ]
    },
    {
      "cell_type": "markdown",
      "id": "6a7892b4-4113-4746-adce-18aa2844f18e",
      "metadata": {
        "id": "6a7892b4-4113-4746-adce-18aa2844f18e"
      },
      "source": [
        "***"
      ]
    },
    {
      "cell_type": "code",
      "execution_count": 1085,
      "id": "UjLWUptVwY1o",
      "metadata": {
        "id": "UjLWUptVwY1o"
      },
      "outputs": [
        {
          "data": {
            "text/plain": [
              "'\\nДанный предметный анализ сконцентрирован лишь на исследовании вопросов относящихся к data science и как таковой, является достаточно узким. \\nВсякого рода выводы из этого анализа носят локальный характер, освещающий лишь одну сферу деятельности и не могут быть распространены на прочие. \\nУстановлено, что количество вакансий касающихся data science составляет около 3 процентов от общего числа имеющихся вакансий. \\nОднако само по себе это не говорит о дефиците или переизбытке трудовых ресурсов в сфере data science. При этом доступных \\nдля начинающих лишь 51 вакансия, что, несомненно крайне ограничивает их вхождение в этот сегмент трудового рынка.\\nКак выяснилось, для data scientists знание SQL или postgres не является сколько-нибудь определяющим поскольку присутствует лишь в 13% доступных\\nдля data scientists вакансий. Для всех прочих вакансий эти навыки не являются ключевыми. \\nПолученные результаты касательно владения Python как ключевым навыком показывают, что он востребован в качестве такового лишь \\nв 20% имеющихся вакансий. \\nДанные о среднем количестве ключевых навыков, будучи избыточными и безотносительными не применимы для понимания трудового рынка.\\nАнализ средней заработной платы в зависимости от опыта работы весьма полезен для нахождения баланса между желаемым и действительным и как\\nтаковой имеет существенное практическое значение для всех сторон трудовых отношений.\\n'"
            ]
          },
          "execution_count": 1085,
          "metadata": {},
          "output_type": "execute_result"
        }
      ],
      "source": [
        "# выводы по предметному анализу\n",
        "'''\n",
        "Данный предметный анализ сконцентрирован лишь на исследовании вопросов относящихся к data science и как таковой, является достаточно узким. \n",
        "Всякого рода выводы из этого анализа носят локальный характер, освещающий лишь одну сферу деятельности и не могут быть распространены на прочие. \n",
        "Установлено, что количество вакансий касающихся data science составляет около 3 процентов от общего числа имеющихся вакансий. \n",
        "Однако само по себе это не говорит о дефиците или переизбытке трудовых ресурсов в сфере data science. При этом доступных \n",
        "для начинающих лишь 51 вакансия, что, несомненно крайне ограничивает их вхождение в этот сегмент трудового рынка.\n",
        "Как выяснилось, для data scientists знание SQL или postgres не является сколько-нибудь определяющим поскольку присутствует лишь в 13% доступных\n",
        "для data scientists вакансий. Для всех прочих вакансий эти навыки не являются ключевыми. \n",
        "Полученные результаты касательно владения Python как ключевым навыком показывают, что он востребован в качестве такового лишь \n",
        "в 20% имеющихся вакансий. \n",
        "Данные о среднем количестве ключевых навыков, будучи избыточными и безотносительными не применимы для понимания трудового рынка.\n",
        "Анализ средней заработной платы в зависимости от опыта работы весьма полезен для нахождения баланса между желаемым и действительным и как\n",
        "таковой имеет существенное практическое значение для всех сторон трудовых отношений.\n",
        "'''"
      ]
    },
    {
      "cell_type": "markdown",
      "id": "c0ED6fh7wiBT",
      "metadata": {
        "id": "c0ED6fh7wiBT"
      },
      "source": [
        "# Общий вывод по проекту"
      ]
    },
    {
      "cell_type": "code",
      "execution_count": 1086,
      "id": "h9B3BL-wwj18",
      "metadata": {
        "id": "h9B3BL-wwj18"
      },
      "outputs": [
        {
          "data": {
            "text/plain": [
              "'\\nИсследование является фрагментарным и не может претендовать на сколько-нибудь широкий охват. Тем не менее, оно проливает свет на некоторые аспекты\\nэкономической и трудовой деятельности и позволяет соориентировать в одном из ответвлений в таком сегменте деятельности как IT. \\n\\nВ дополнение к проведённым исследованиям представляется разумным провести ещё следующие:\\n    Установить количество вакансий по сферам деятельности.\\n    Установить средний размер заработной платы по сферам деятельности.\\n    \\nБыло бы неплохо отследить динамику вакансий по сферам деятельности, что позволило бы сделать стратегические прогнозы и предположения о\\nсостоянии экономики в целом и тенденциях развития. Для этого необходимо делать временной срез по вакансиям, что на базе имеющихся данных\\nневозможно.\\n'"
            ]
          },
          "execution_count": 1086,
          "metadata": {},
          "output_type": "execute_result"
        }
      ],
      "source": [
        "# подведем итог исследования, обобщите выводы\n",
        "# здесь можно (это будет плюсом) провести дополнительные исследования данных, сделать прогнозы, продумать варианты продолжения исследования\n",
        "'''\n",
        "Исследование является фрагментарным и не может претендовать на сколько-нибудь широкий охват. Тем не менее, оно проливает свет на некоторые аспекты\n",
        "экономической и трудовой деятельности и позволяет соориентировать в одном из ответвлений в таком сегменте деятельности как IT. \n",
        "\n",
        "В дополнение к проведённым исследованиям представляется разумным провести ещё следующие:\n",
        "    Установить количество вакансий по сферам деятельности.\n",
        "    Установить средний размер заработной платы по сферам деятельности.\n",
        "    \n",
        "Было бы неплохо отследить динамику вакансий по сферам деятельности, что позволило бы сделать стратегические прогнозы и предположения о\n",
        "состоянии экономики в целом и тенденциях развития. Для этого необходимо делать временной срез по вакансиям, что на базе имеющихся данных\n",
        "невозможно.\n",
        "'''"
      ]
    },
    {
      "cell_type": "code",
      "execution_count": 1087,
      "id": "d7c1bbe6",
      "metadata": {},
      "outputs": [
        {
          "name": "stderr",
          "output_type": "stream",
          "text": [
            "/var/folders/ds/pylxck917yl36y11xbhgmxn80000gn/T/ipykernel_4537/2011169005.py:15: UserWarning: pandas only supports SQLAlchemy connectable (engine/connection) or database string URI or sqlite3 DBAPI2 connection. Other DBAPI2 objects are not tested. Please consider using SQLAlchemy.\n",
            "  df = pd.read_sql_query(q1, connection)\n"
          ]
        },
        {
          "data": {
            "text/html": [
              "<div>\n",
              "<style scoped>\n",
              "    .dataframe tbody tr th:only-of-type {\n",
              "        vertical-align: middle;\n",
              "    }\n",
              "\n",
              "    .dataframe tbody tr th {\n",
              "        vertical-align: top;\n",
              "    }\n",
              "\n",
              "    .dataframe thead th {\n",
              "        text-align: right;\n",
              "    }\n",
              "</style>\n",
              "<table border=\"1\" class=\"dataframe\">\n",
              "  <thead>\n",
              "    <tr style=\"text-align: right;\">\n",
              "      <th></th>\n",
              "      <th>name</th>\n",
              "      <th>count</th>\n",
              "    </tr>\n",
              "  </thead>\n",
              "  <tbody>\n",
              "    <tr>\n",
              "      <th>0</th>\n",
              "      <td>Разработка программного обеспечения</td>\n",
              "      <td>12499</td>\n",
              "    </tr>\n",
              "    <tr>\n",
              "      <th>1</th>\n",
              "      <td>Системная интеграция,  автоматизации технологи...</td>\n",
              "      <td>11034</td>\n",
              "    </tr>\n",
              "    <tr>\n",
              "      <th>2</th>\n",
              "      <td>Интернет-компания (поисковики, платежные систе...</td>\n",
              "      <td>6413</td>\n",
              "    </tr>\n",
              "    <tr>\n",
              "      <th>3</th>\n",
              "      <td>Банк</td>\n",
              "      <td>2742</td>\n",
              "    </tr>\n",
              "    <tr>\n",
              "      <th>4</th>\n",
              "      <td>Мобильная связь</td>\n",
              "      <td>1585</td>\n",
              "    </tr>\n",
              "    <tr>\n",
              "      <th>5</th>\n",
              "      <td>Кадровые агентства</td>\n",
              "      <td>1143</td>\n",
              "    </tr>\n",
              "    <tr>\n",
              "      <th>6</th>\n",
              "      <td>Консалтинговые услуги</td>\n",
              "      <td>1137</td>\n",
              "    </tr>\n",
              "    <tr>\n",
              "      <th>7</th>\n",
              "      <td>Интернет-провайдер</td>\n",
              "      <td>1095</td>\n",
              "    </tr>\n",
              "    <tr>\n",
              "      <th>8</th>\n",
              "      <td>Розничная сеть (продуктовая)</td>\n",
              "      <td>1034</td>\n",
              "    </tr>\n",
              "    <tr>\n",
              "      <th>9</th>\n",
              "      <td>Фиксированная связь</td>\n",
              "      <td>1028</td>\n",
              "    </tr>\n",
              "    <tr>\n",
              "      <th>10</th>\n",
              "      <td>Оптоволоконная связь</td>\n",
              "      <td>1012</td>\n",
              "    </tr>\n",
              "    <tr>\n",
              "      <th>11</th>\n",
              "      <td>Маркетинговые, рекламные, BTL, дизайнерские, E...</td>\n",
              "      <td>1001</td>\n",
              "    </tr>\n",
              "    <tr>\n",
              "      <th>12</th>\n",
              "      <td>Интернет-магазин</td>\n",
              "      <td>788</td>\n",
              "    </tr>\n",
              "    <tr>\n",
              "      <th>13</th>\n",
              "      <td>Электронно-вычислительная, оптическая, контрол...</td>\n",
              "      <td>622</td>\n",
              "    </tr>\n",
              "    <tr>\n",
              "      <th>14</th>\n",
              "      <td>Электронно-вычислительная, оптическая, контрол...</td>\n",
              "      <td>584</td>\n",
              "    </tr>\n",
              "  </tbody>\n",
              "</table>\n",
              "</div>"
            ],
            "text/plain": [
              "                                                 name  count\n",
              "0                 Разработка программного обеспечения  12499\n",
              "1   Системная интеграция,  автоматизации технологи...  11034\n",
              "2   Интернет-компания (поисковики, платежные систе...   6413\n",
              "3                                                Банк   2742\n",
              "4                                     Мобильная связь   1585\n",
              "5                                  Кадровые агентства   1143\n",
              "6                               Консалтинговые услуги   1137\n",
              "7                                  Интернет-провайдер   1095\n",
              "8                        Розничная сеть (продуктовая)   1034\n",
              "9                                 Фиксированная связь   1028\n",
              "10                               Оптоволоконная связь   1012\n",
              "11  Маркетинговые, рекламные, BTL, дизайнерские, E...   1001\n",
              "12                                   Интернет-магазин    788\n",
              "13  Электронно-вычислительная, оптическая, контрол...    622\n",
              "14  Электронно-вычислительная, оптическая, контрол...    584"
            ]
          },
          "execution_count": 1087,
          "metadata": {},
          "output_type": "execute_result"
        }
      ],
      "source": [
        "# Определение количества вакансий по сферам деятельности\n",
        "q1 = f'''\n",
        "    select\n",
        "        i.name,\n",
        "        count(v.id)\n",
        "    from\n",
        "        EMPLOYERS_INDUSTRIES ei\n",
        "        left join employers e on e.id = ei.employer_id\n",
        "        left join vacancies v on v.employer_id = e.id\n",
        "        left join industries i on i.id = ei.industry_id\n",
        "        group by 1\n",
        "    order by 2 desc\n",
        "'''\n",
        "\n",
        "df = pd.read_sql_query(q1, connection)\n",
        "df.head(15)\n"
      ]
    },
    {
      "cell_type": "markdown",
      "id": "ee637c13",
      "metadata": {},
      "source": [
        "#### Вывод по запросу о количестве вакансий по сферам деятельности\n",
        "Определение количества вакансий по сферам деятельности показало, что подавляющее число вакансий исходит из сфер деятельности, связанных или имеющих отношение к IT, что с приводит к заключению о возможной стагнации промышленности."
      ]
    },
    {
      "cell_type": "code",
      "execution_count": 1088,
      "id": "fbfca3aa",
      "metadata": {},
      "outputs": [
        {
          "name": "stderr",
          "output_type": "stream",
          "text": [
            "/var/folders/ds/pylxck917yl36y11xbhgmxn80000gn/T/ipykernel_4537/347106296.py:19: UserWarning: pandas only supports SQLAlchemy connectable (engine/connection) or database string URI or sqlite3 DBAPI2 connection. Other DBAPI2 objects are not tested. Please consider using SQLAlchemy.\n",
            "  df = pd.read_sql_query(q2, connection)\n"
          ]
        },
        {
          "data": {
            "text/html": [
              "<div>\n",
              "<style scoped>\n",
              "    .dataframe tbody tr th:only-of-type {\n",
              "        vertical-align: middle;\n",
              "    }\n",
              "\n",
              "    .dataframe tbody tr th {\n",
              "        vertical-align: top;\n",
              "    }\n",
              "\n",
              "    .dataframe thead th {\n",
              "        text-align: right;\n",
              "    }\n",
              "</style>\n",
              "<table border=\"1\" class=\"dataframe\">\n",
              "  <thead>\n",
              "    <tr style=\"text-align: right;\">\n",
              "      <th></th>\n",
              "      <th>name</th>\n",
              "      <th>vacancies</th>\n",
              "      <th>wage</th>\n",
              "    </tr>\n",
              "  </thead>\n",
              "  <tbody>\n",
              "    <tr>\n",
              "      <th>0</th>\n",
              "      <td>Агрохимия (продвижение, оптовая торговля)</td>\n",
              "      <td>14</td>\n",
              "      <td>381429.0</td>\n",
              "    </tr>\n",
              "    <tr>\n",
              "      <th>1</th>\n",
              "      <td>Агрохимия (производство)</td>\n",
              "      <td>16</td>\n",
              "      <td>339875.0</td>\n",
              "    </tr>\n",
              "    <tr>\n",
              "      <th>2</th>\n",
              "      <td>Игорный бизнес</td>\n",
              "      <td>20</td>\n",
              "      <td>191905.0</td>\n",
              "    </tr>\n",
              "    <tr>\n",
              "      <th>3</th>\n",
              "      <td>Корма для животных (производство)</td>\n",
              "      <td>29</td>\n",
              "      <td>168300.0</td>\n",
              "    </tr>\n",
              "    <tr>\n",
              "      <th>4</th>\n",
              "      <td>Зоомагазин</td>\n",
              "      <td>31</td>\n",
              "      <td>167613.0</td>\n",
              "    </tr>\n",
              "    <tr>\n",
              "      <th>...</th>\n",
              "      <td>...</td>\n",
              "      <td>...</td>\n",
              "      <td>...</td>\n",
              "    </tr>\n",
              "    <tr>\n",
              "      <th>286</th>\n",
              "      <td>Фото- и видеоуслуги</td>\n",
              "      <td>14</td>\n",
              "      <td>40961.0</td>\n",
              "    </tr>\n",
              "    <tr>\n",
              "      <th>287</th>\n",
              "      <td>Ритуальные услуги</td>\n",
              "      <td>1</td>\n",
              "      <td>37401.0</td>\n",
              "    </tr>\n",
              "    <tr>\n",
              "      <th>288</th>\n",
              "      <td>Архив, библиотека, искусствоведение</td>\n",
              "      <td>9</td>\n",
              "      <td>36858.0</td>\n",
              "    </tr>\n",
              "    <tr>\n",
              "      <th>289</th>\n",
              "      <td>Переработка газа</td>\n",
              "      <td>2</td>\n",
              "      <td>34068.0</td>\n",
              "    </tr>\n",
              "    <tr>\n",
              "      <th>290</th>\n",
              "      <td>Детское питание (производство)</td>\n",
              "      <td>9</td>\n",
              "      <td>32868.0</td>\n",
              "    </tr>\n",
              "  </tbody>\n",
              "</table>\n",
              "<p>291 rows × 3 columns</p>\n",
              "</div>"
            ],
            "text/plain": [
              "                                          name  vacancies      wage\n",
              "0    Агрохимия (продвижение, оптовая торговля)         14  381429.0\n",
              "1                     Агрохимия (производство)         16  339875.0\n",
              "2                               Игорный бизнес         20  191905.0\n",
              "3            Корма для животных (производство)         29  168300.0\n",
              "4                                   Зоомагазин         31  167613.0\n",
              "..                                         ...        ...       ...\n",
              "286                        Фото- и видеоуслуги         14   40961.0\n",
              "287                          Ритуальные услуги          1   37401.0\n",
              "288        Архив, библиотека, искусствоведение          9   36858.0\n",
              "289                           Переработка газа          2   34068.0\n",
              "290             Детское питание (производство)          9   32868.0\n",
              "\n",
              "[291 rows x 3 columns]"
            ]
          },
          "execution_count": 1088,
          "metadata": {},
          "output_type": "execute_result"
        }
      ],
      "source": [
        "# Определение среднего размера заработной платы по сферам деятельности\n",
        "\n",
        "q2 = f'''\n",
        "        SELECT\n",
        "            i.name,\n",
        "            count(v.id) vacancies,\n",
        "            round(AVG(coalesce((salary_from+salary_to)/2, salary_from, salary_to))) wage\n",
        "        FROM \n",
        "            EMPLOYERS_INDUSTRIES ei\n",
        "            left join employers e on e.id = ei.employer_id\n",
        "            left join vacancies v on v.employer_id = e.id\n",
        "            left join industries i on i.id = ei.industry_id \n",
        "        WHERE \n",
        "            (salary_from IS not NULL or salary_to IS not NULL)\n",
        "        GROUP BY 1\n",
        "        order by 3 desc\n",
        "'''\n",
        "\n",
        "df = pd.read_sql_query(q2, connection)\n",
        "df"
      ]
    },
    {
      "cell_type": "markdown",
      "id": "7b9cf798",
      "metadata": {},
      "source": [
        "#### Вывод по запросу об определении среднего размера заработной платы по сферам деятельности\n",
        "Как видно, наибольший средний размер заработной платы в сфере агрохимии. Обращает на себя внимание, что количество вакансий в этой сфере деятельности не соответствует количеству вакансий, опредeлённых в предыдущем запросе. Чтобы внести ясность в этот вопрос, составим отдельный запрос ниже."
      ]
    },
    {
      "cell_type": "code",
      "execution_count": 1089,
      "id": "fdd7f119",
      "metadata": {},
      "outputs": [
        {
          "name": "stderr",
          "output_type": "stream",
          "text": [
            "/var/folders/ds/pylxck917yl36y11xbhgmxn80000gn/T/ipykernel_4537/2584425209.py:14: UserWarning: pandas only supports SQLAlchemy connectable (engine/connection) or database string URI or sqlite3 DBAPI2 connection. Other DBAPI2 objects are not tested. Please consider using SQLAlchemy.\n",
            "  df = pd.read_sql_query(q1, connection)\n"
          ]
        },
        {
          "name": "stdout",
          "output_type": "stream",
          "text": [
            "количество вакансий по агрохимии - 107\n"
          ]
        },
        {
          "data": {
            "text/html": [
              "<div>\n",
              "<style scoped>\n",
              "    .dataframe tbody tr th:only-of-type {\n",
              "        vertical-align: middle;\n",
              "    }\n",
              "\n",
              "    .dataframe tbody tr th {\n",
              "        vertical-align: top;\n",
              "    }\n",
              "\n",
              "    .dataframe thead th {\n",
              "        text-align: right;\n",
              "    }\n",
              "</style>\n",
              "<table border=\"1\" class=\"dataframe\">\n",
              "  <thead>\n",
              "    <tr style=\"text-align: right;\">\n",
              "      <th></th>\n",
              "      <th>salary_from</th>\n",
              "      <th>salary_to</th>\n",
              "    </tr>\n",
              "  </thead>\n",
              "  <tbody>\n",
              "    <tr>\n",
              "      <th>0</th>\n",
              "      <td>30000.0</td>\n",
              "      <td>NaN</td>\n",
              "    </tr>\n",
              "    <tr>\n",
              "      <th>1</th>\n",
              "      <td>30000.0</td>\n",
              "      <td>NaN</td>\n",
              "    </tr>\n",
              "    <tr>\n",
              "      <th>2</th>\n",
              "      <td>40000.0</td>\n",
              "      <td>80000.0</td>\n",
              "    </tr>\n",
              "    <tr>\n",
              "      <th>3</th>\n",
              "      <td>50000.0</td>\n",
              "      <td>NaN</td>\n",
              "    </tr>\n",
              "    <tr>\n",
              "      <th>4</th>\n",
              "      <td>60000.0</td>\n",
              "      <td>NaN</td>\n",
              "    </tr>\n",
              "    <tr>\n",
              "      <th>5</th>\n",
              "      <td>60000.0</td>\n",
              "      <td>NaN</td>\n",
              "    </tr>\n",
              "    <tr>\n",
              "      <th>6</th>\n",
              "      <td>88000.0</td>\n",
              "      <td>NaN</td>\n",
              "    </tr>\n",
              "    <tr>\n",
              "      <th>7</th>\n",
              "      <td>150000.0</td>\n",
              "      <td>NaN</td>\n",
              "    </tr>\n",
              "    <tr>\n",
              "      <th>8</th>\n",
              "      <td>150000.0</td>\n",
              "      <td>NaN</td>\n",
              "    </tr>\n",
              "    <tr>\n",
              "      <th>9</th>\n",
              "      <td>500000.0</td>\n",
              "      <td>NaN</td>\n",
              "    </tr>\n",
              "    <tr>\n",
              "      <th>10</th>\n",
              "      <td>500000.0</td>\n",
              "      <td>NaN</td>\n",
              "    </tr>\n",
              "    <tr>\n",
              "      <th>11</th>\n",
              "      <td>500000.0</td>\n",
              "      <td>NaN</td>\n",
              "    </tr>\n",
              "    <tr>\n",
              "      <th>12</th>\n",
              "      <td>500000.0</td>\n",
              "      <td>NaN</td>\n",
              "    </tr>\n",
              "    <tr>\n",
              "      <th>13</th>\n",
              "      <td>500000.0</td>\n",
              "      <td>NaN</td>\n",
              "    </tr>\n",
              "    <tr>\n",
              "      <th>14</th>\n",
              "      <td>500000.0</td>\n",
              "      <td>NaN</td>\n",
              "    </tr>\n",
              "    <tr>\n",
              "      <th>15</th>\n",
              "      <td>500000.0</td>\n",
              "      <td>NaN</td>\n",
              "    </tr>\n",
              "    <tr>\n",
              "      <th>16</th>\n",
              "      <td>500000.0</td>\n",
              "      <td>NaN</td>\n",
              "    </tr>\n",
              "    <tr>\n",
              "      <th>17</th>\n",
              "      <td>500000.0</td>\n",
              "      <td>NaN</td>\n",
              "    </tr>\n",
              "    <tr>\n",
              "      <th>18</th>\n",
              "      <td>500000.0</td>\n",
              "      <td>NaN</td>\n",
              "    </tr>\n",
              "    <tr>\n",
              "      <th>19</th>\n",
              "      <td>500000.0</td>\n",
              "      <td>NaN</td>\n",
              "    </tr>\n",
              "    <tr>\n",
              "      <th>20</th>\n",
              "      <td>500000.0</td>\n",
              "      <td>NaN</td>\n",
              "    </tr>\n",
              "    <tr>\n",
              "      <th>21</th>\n",
              "      <td>500000.0</td>\n",
              "      <td>NaN</td>\n",
              "    </tr>\n",
              "    <tr>\n",
              "      <th>22</th>\n",
              "      <td>500000.0</td>\n",
              "      <td>NaN</td>\n",
              "    </tr>\n",
              "    <tr>\n",
              "      <th>23</th>\n",
              "      <td>500000.0</td>\n",
              "      <td>NaN</td>\n",
              "    </tr>\n",
              "    <tr>\n",
              "      <th>24</th>\n",
              "      <td>500000.0</td>\n",
              "      <td>NaN</td>\n",
              "    </tr>\n",
              "    <tr>\n",
              "      <th>25</th>\n",
              "      <td>500000.0</td>\n",
              "      <td>NaN</td>\n",
              "    </tr>\n",
              "    <tr>\n",
              "      <th>26</th>\n",
              "      <td>500000.0</td>\n",
              "      <td>NaN</td>\n",
              "    </tr>\n",
              "    <tr>\n",
              "      <th>27</th>\n",
              "      <td>500000.0</td>\n",
              "      <td>NaN</td>\n",
              "    </tr>\n",
              "    <tr>\n",
              "      <th>28</th>\n",
              "      <td>500000.0</td>\n",
              "      <td>NaN</td>\n",
              "    </tr>\n",
              "    <tr>\n",
              "      <th>29</th>\n",
              "      <td>NaN</td>\n",
              "      <td>100000.0</td>\n",
              "    </tr>\n",
              "    <tr>\n",
              "      <th>30</th>\n",
              "      <td>NaN</td>\n",
              "      <td>NaN</td>\n",
              "    </tr>\n",
              "    <tr>\n",
              "      <th>31</th>\n",
              "      <td>NaN</td>\n",
              "      <td>NaN</td>\n",
              "    </tr>\n",
              "    <tr>\n",
              "      <th>32</th>\n",
              "      <td>NaN</td>\n",
              "      <td>NaN</td>\n",
              "    </tr>\n",
              "    <tr>\n",
              "      <th>33</th>\n",
              "      <td>NaN</td>\n",
              "      <td>NaN</td>\n",
              "    </tr>\n",
              "    <tr>\n",
              "      <th>34</th>\n",
              "      <td>NaN</td>\n",
              "      <td>NaN</td>\n",
              "    </tr>\n",
              "    <tr>\n",
              "      <th>35</th>\n",
              "      <td>NaN</td>\n",
              "      <td>NaN</td>\n",
              "    </tr>\n",
              "    <tr>\n",
              "      <th>36</th>\n",
              "      <td>NaN</td>\n",
              "      <td>NaN</td>\n",
              "    </tr>\n",
              "    <tr>\n",
              "      <th>37</th>\n",
              "      <td>NaN</td>\n",
              "      <td>NaN</td>\n",
              "    </tr>\n",
              "    <tr>\n",
              "      <th>38</th>\n",
              "      <td>NaN</td>\n",
              "      <td>NaN</td>\n",
              "    </tr>\n",
              "    <tr>\n",
              "      <th>39</th>\n",
              "      <td>NaN</td>\n",
              "      <td>NaN</td>\n",
              "    </tr>\n",
              "    <tr>\n",
              "      <th>40</th>\n",
              "      <td>NaN</td>\n",
              "      <td>NaN</td>\n",
              "    </tr>\n",
              "    <tr>\n",
              "      <th>41</th>\n",
              "      <td>NaN</td>\n",
              "      <td>NaN</td>\n",
              "    </tr>\n",
              "    <tr>\n",
              "      <th>42</th>\n",
              "      <td>NaN</td>\n",
              "      <td>NaN</td>\n",
              "    </tr>\n",
              "    <tr>\n",
              "      <th>43</th>\n",
              "      <td>NaN</td>\n",
              "      <td>NaN</td>\n",
              "    </tr>\n",
              "    <tr>\n",
              "      <th>44</th>\n",
              "      <td>NaN</td>\n",
              "      <td>NaN</td>\n",
              "    </tr>\n",
              "    <tr>\n",
              "      <th>45</th>\n",
              "      <td>NaN</td>\n",
              "      <td>NaN</td>\n",
              "    </tr>\n",
              "    <tr>\n",
              "      <th>46</th>\n",
              "      <td>NaN</td>\n",
              "      <td>NaN</td>\n",
              "    </tr>\n",
              "    <tr>\n",
              "      <th>47</th>\n",
              "      <td>NaN</td>\n",
              "      <td>NaN</td>\n",
              "    </tr>\n",
              "    <tr>\n",
              "      <th>48</th>\n",
              "      <td>NaN</td>\n",
              "      <td>NaN</td>\n",
              "    </tr>\n",
              "    <tr>\n",
              "      <th>49</th>\n",
              "      <td>NaN</td>\n",
              "      <td>NaN</td>\n",
              "    </tr>\n",
              "  </tbody>\n",
              "</table>\n",
              "</div>"
            ],
            "text/plain": [
              "    salary_from  salary_to\n",
              "0       30000.0        NaN\n",
              "1       30000.0        NaN\n",
              "2       40000.0    80000.0\n",
              "3       50000.0        NaN\n",
              "4       60000.0        NaN\n",
              "5       60000.0        NaN\n",
              "6       88000.0        NaN\n",
              "7      150000.0        NaN\n",
              "8      150000.0        NaN\n",
              "9      500000.0        NaN\n",
              "10     500000.0        NaN\n",
              "11     500000.0        NaN\n",
              "12     500000.0        NaN\n",
              "13     500000.0        NaN\n",
              "14     500000.0        NaN\n",
              "15     500000.0        NaN\n",
              "16     500000.0        NaN\n",
              "17     500000.0        NaN\n",
              "18     500000.0        NaN\n",
              "19     500000.0        NaN\n",
              "20     500000.0        NaN\n",
              "21     500000.0        NaN\n",
              "22     500000.0        NaN\n",
              "23     500000.0        NaN\n",
              "24     500000.0        NaN\n",
              "25     500000.0        NaN\n",
              "26     500000.0        NaN\n",
              "27     500000.0        NaN\n",
              "28     500000.0        NaN\n",
              "29          NaN   100000.0\n",
              "30          NaN        NaN\n",
              "31          NaN        NaN\n",
              "32          NaN        NaN\n",
              "33          NaN        NaN\n",
              "34          NaN        NaN\n",
              "35          NaN        NaN\n",
              "36          NaN        NaN\n",
              "37          NaN        NaN\n",
              "38          NaN        NaN\n",
              "39          NaN        NaN\n",
              "40          NaN        NaN\n",
              "41          NaN        NaN\n",
              "42          NaN        NaN\n",
              "43          NaN        NaN\n",
              "44          NaN        NaN\n",
              "45          NaN        NaN\n",
              "46          NaN        NaN\n",
              "47          NaN        NaN\n",
              "48          NaN        NaN\n",
              "49          NaN        NaN"
            ]
          },
          "execution_count": 1089,
          "metadata": {},
          "output_type": "execute_result"
        }
      ],
      "source": [
        "q1 = f'''\n",
        "    select\n",
        "        salary_from,\n",
        "        salary_to\n",
        "    from\n",
        "        EMPLOYERS_INDUSTRIES ei\n",
        "        left join employers e on e.id = ei.employer_id\n",
        "        left join vacancies v on v.employer_id = e.id\n",
        "        left join industries i on i.id = ei.industry_id\n",
        "        where i.name ilike 'Агрох%'\n",
        "    order by 1, 2 asc\n",
        "'''\n",
        "\n",
        "df = pd.read_sql_query(q1, connection)\n",
        "print('количество вакансий по агрохимии -', df.shape[0])\n",
        "df.head(50)"
      ]
    },
    {
      "cell_type": "markdown",
      "id": "ad83e5f9",
      "metadata": {},
      "source": [
        "### Вывод по текущему запросу\n",
        "Расхождение к количестве вакансий во двум предыдущим запросом связано с тем, что в запросе о средней заработной плате не учитывались данные, где размер заработной платы не указан."
      ]
    },
    {
      "cell_type": "code",
      "execution_count": 1090,
      "id": "4f0ebfa7",
      "metadata": {},
      "outputs": [],
      "source": [
        "connection.close()"
      ]
    }
  ],
  "metadata": {
    "colab": {
      "provenance": []
    },
    "kernelspec": {
      "display_name": "Python 3 (ipykernel)",
      "language": "python",
      "name": "python3"
    },
    "language_info": {
      "codemirror_mode": {
        "name": "ipython",
        "version": 3
      },
      "file_extension": ".py",
      "mimetype": "text/x-python",
      "name": "python",
      "nbconvert_exporter": "python",
      "pygments_lexer": "ipython3",
      "version": "3.12.1"
    }
  },
  "nbformat": 4,
  "nbformat_minor": 5
}
